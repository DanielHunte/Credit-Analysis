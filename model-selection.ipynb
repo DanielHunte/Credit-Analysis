{
 "metadata": {
  "orig_nbformat": 2,
  "kernelspec": {
   "name": "python394jvsc74a57bd0daf19b0280700678d1b30283c052a0b4f397f6934ace6c653c7a54482fc82c11",
   "display_name": "Python 3.9.4 64-bit ('venv')"
  },
  "metadata": {
   "interpreter": {
    "hash": "9518128f597d7b00dc14729602cfd87fb7b2cf75925976bcb0d0e328a830a12b"
   }
  }
 },
 "nbformat": 4,
 "nbformat_minor": 2,
 "cells": [
  {
   "source": [
    "# Imports"
   ],
   "cell_type": "markdown",
   "metadata": {}
  },
  {
   "cell_type": "code",
   "execution_count": 1,
   "metadata": {},
   "outputs": [],
   "source": [
    "import pandas as pd\n",
    "import numpy as np\n",
    "import matplotlib.pyplot as plt\n",
    "%matplotlib inline "
   ]
  },
  {
   "source": [
    "# Data Cleaning"
   ],
   "cell_type": "markdown",
   "metadata": {}
  },
  {
   "source": [
    "## Selecting Relevant Fields\n",
    "the dataset will be loaded and transformed and relevant dimensions will remain"
   ],
   "cell_type": "markdown",
   "metadata": {}
  },
  {
   "cell_type": "code",
   "execution_count": 2,
   "metadata": {},
   "outputs": [
    {
     "output_type": "execute_result",
     "data": {
      "text/plain": [
       "  NAME_CONTRACT_STATUS CODE_GENDER FLAG_OWN_CAR FLAG_OWN_REALTY  \\\n",
       "0             Approved           M            N               Y   \n",
       "1             Approved           F            Y               Y   \n",
       "2             Approved           F            N               N   \n",
       "3             Approved           M            Y               Y   \n",
       "4             Approved           F            N               Y   \n",
       "5             Approved           M            N               N   \n",
       "\n",
       "   AMT_INCOME_TOTAL  AMT_CREDIT      NAME_INCOME_TYPE  \\\n",
       "0          157500.0    177412.5               Working   \n",
       "1          247500.0     57208.5               Working   \n",
       "2           81000.0     47155.5  Commercial associate   \n",
       "3          193500.0    138249.0               Working   \n",
       "4           81000.0     15849.0               Working   \n",
       "5          315000.0     77634.0  Commercial associate   \n",
       "\n",
       "             NAME_EDUCATION_TYPE    NAME_FAMILY_STATUS  NAME_HOUSING_TYPE  \\\n",
       "0  Secondary / secondary special  Single / not married  House / apartment   \n",
       "1  Secondary / secondary special               Married  House / apartment   \n",
       "2  Secondary / secondary special  Single / not married  House / apartment   \n",
       "3  Secondary / secondary special               Married  House / apartment   \n",
       "4  Secondary / secondary special               Married  House / apartment   \n",
       "5               Higher education               Married  House / apartment   \n",
       "\n",
       "   DAYS_BIRTH  DAYS_EMPLOYED OCCUPATION_TYPE  CNT_FAM_MEMBERS  \\\n",
       "0      -20533          -2873        Laborers              1.0   \n",
       "1       -8042           -906     Sales staff              2.0   \n",
       "2      -11841          -1068      Core staff              2.0   \n",
       "3      -11817          -2151        Managers              4.0   \n",
       "4      -12661          -2269        Laborers              5.0   \n",
       "5      -13017          -1324        Laborers              4.0   \n",
       "\n",
       "  NAME_CLIENT_TYPE  AMT_DOWN_PAYMENT  NAME_TYPE_SUITE      NAME_PAYMENT_TYPE  \n",
       "0              New              0.00  Spouse, partner  Cash through the bank  \n",
       "1              New              1.17    Unaccompanied  Cash through the bank  \n",
       "2              New           4945.50    Unaccompanied  Cash through the bank  \n",
       "3        Refreshed          59251.50    Unaccompanied  Cash through the bank  \n",
       "4         Repeater           6750.00    Unaccompanied  Cash through the bank  \n",
       "5              New          15696.00    Unaccompanied  Cash through the bank  "
      ],
      "text/html": "<div>\n<style scoped>\n    .dataframe tbody tr th:only-of-type {\n        vertical-align: middle;\n    }\n\n    .dataframe tbody tr th {\n        vertical-align: top;\n    }\n\n    .dataframe thead th {\n        text-align: right;\n    }\n</style>\n<table border=\"1\" class=\"dataframe\">\n  <thead>\n    <tr style=\"text-align: right;\">\n      <th></th>\n      <th>NAME_CONTRACT_STATUS</th>\n      <th>CODE_GENDER</th>\n      <th>FLAG_OWN_CAR</th>\n      <th>FLAG_OWN_REALTY</th>\n      <th>AMT_INCOME_TOTAL</th>\n      <th>AMT_CREDIT</th>\n      <th>NAME_INCOME_TYPE</th>\n      <th>NAME_EDUCATION_TYPE</th>\n      <th>NAME_FAMILY_STATUS</th>\n      <th>NAME_HOUSING_TYPE</th>\n      <th>DAYS_BIRTH</th>\n      <th>DAYS_EMPLOYED</th>\n      <th>OCCUPATION_TYPE</th>\n      <th>CNT_FAM_MEMBERS</th>\n      <th>NAME_CLIENT_TYPE</th>\n      <th>AMT_DOWN_PAYMENT</th>\n      <th>NAME_TYPE_SUITE</th>\n      <th>NAME_PAYMENT_TYPE</th>\n    </tr>\n  </thead>\n  <tbody>\n    <tr>\n      <th>0</th>\n      <td>Approved</td>\n      <td>M</td>\n      <td>N</td>\n      <td>Y</td>\n      <td>157500.0</td>\n      <td>177412.5</td>\n      <td>Working</td>\n      <td>Secondary / secondary special</td>\n      <td>Single / not married</td>\n      <td>House / apartment</td>\n      <td>-20533</td>\n      <td>-2873</td>\n      <td>Laborers</td>\n      <td>1.0</td>\n      <td>New</td>\n      <td>0.00</td>\n      <td>Spouse, partner</td>\n      <td>Cash through the bank</td>\n    </tr>\n    <tr>\n      <th>1</th>\n      <td>Approved</td>\n      <td>F</td>\n      <td>Y</td>\n      <td>Y</td>\n      <td>247500.0</td>\n      <td>57208.5</td>\n      <td>Working</td>\n      <td>Secondary / secondary special</td>\n      <td>Married</td>\n      <td>House / apartment</td>\n      <td>-8042</td>\n      <td>-906</td>\n      <td>Sales staff</td>\n      <td>2.0</td>\n      <td>New</td>\n      <td>1.17</td>\n      <td>Unaccompanied</td>\n      <td>Cash through the bank</td>\n    </tr>\n    <tr>\n      <th>2</th>\n      <td>Approved</td>\n      <td>F</td>\n      <td>N</td>\n      <td>N</td>\n      <td>81000.0</td>\n      <td>47155.5</td>\n      <td>Commercial associate</td>\n      <td>Secondary / secondary special</td>\n      <td>Single / not married</td>\n      <td>House / apartment</td>\n      <td>-11841</td>\n      <td>-1068</td>\n      <td>Core staff</td>\n      <td>2.0</td>\n      <td>New</td>\n      <td>4945.50</td>\n      <td>Unaccompanied</td>\n      <td>Cash through the bank</td>\n    </tr>\n    <tr>\n      <th>3</th>\n      <td>Approved</td>\n      <td>M</td>\n      <td>Y</td>\n      <td>Y</td>\n      <td>193500.0</td>\n      <td>138249.0</td>\n      <td>Working</td>\n      <td>Secondary / secondary special</td>\n      <td>Married</td>\n      <td>House / apartment</td>\n      <td>-11817</td>\n      <td>-2151</td>\n      <td>Managers</td>\n      <td>4.0</td>\n      <td>Refreshed</td>\n      <td>59251.50</td>\n      <td>Unaccompanied</td>\n      <td>Cash through the bank</td>\n    </tr>\n    <tr>\n      <th>4</th>\n      <td>Approved</td>\n      <td>F</td>\n      <td>N</td>\n      <td>Y</td>\n      <td>81000.0</td>\n      <td>15849.0</td>\n      <td>Working</td>\n      <td>Secondary / secondary special</td>\n      <td>Married</td>\n      <td>House / apartment</td>\n      <td>-12661</td>\n      <td>-2269</td>\n      <td>Laborers</td>\n      <td>5.0</td>\n      <td>Repeater</td>\n      <td>6750.00</td>\n      <td>Unaccompanied</td>\n      <td>Cash through the bank</td>\n    </tr>\n    <tr>\n      <th>5</th>\n      <td>Approved</td>\n      <td>M</td>\n      <td>N</td>\n      <td>N</td>\n      <td>315000.0</td>\n      <td>77634.0</td>\n      <td>Commercial associate</td>\n      <td>Higher education</td>\n      <td>Married</td>\n      <td>House / apartment</td>\n      <td>-13017</td>\n      <td>-1324</td>\n      <td>Laborers</td>\n      <td>4.0</td>\n      <td>New</td>\n      <td>15696.00</td>\n      <td>Unaccompanied</td>\n      <td>Cash through the bank</td>\n    </tr>\n  </tbody>\n</table>\n</div>"
     },
     "metadata": {},
     "execution_count": 2
    }
   ],
   "source": [
    "df = pd.read_csv('database.csv')[[\n",
    "    'NAME_CONTRACT_STATUS',\n",
    "    'CODE_GENDER',\n",
    "    'FLAG_OWN_CAR',\n",
    "    'FLAG_OWN_REALTY',\n",
    "    'AMT_INCOME_TOTAL',\n",
    "    'AMT_CREDIT',\n",
    "    'NAME_INCOME_TYPE',\n",
    "    'NAME_EDUCATION_TYPE',\n",
    "    'NAME_FAMILY_STATUS',\n",
    "    'NAME_HOUSING_TYPE',\n",
    "    'DAYS_BIRTH',\n",
    "    'DAYS_EMPLOYED',\n",
    "    'OCCUPATION_TYPE',\n",
    "    'CNT_FAM_MEMBERS',\n",
    "    'NAME_CLIENT_TYPE',\n",
    "    'AMT_DOWN_PAYMENT',\n",
    "    'NAME_TYPE_SUITE',\n",
    "    'NAME_PAYMENT_TYPE'\n",
    "]]\n",
    "\n",
    "#drop rows with na values\n",
    "df = df.dropna()\n",
    "for col in df.columns:\n",
    "    df = df[df[col]!='XNA'].reset_index(drop=True)\n",
    "\n",
    "#shuffle the dataframe\n",
    "df = df.sample(frac=1).reset_index(drop=True)\n",
    "\n",
    "df.head(6)"
   ]
  },
  {
   "source": [
    "## Reductions to Binary Variables\n",
    "\n",
    "The target variable, NAME_CONTRACT_STATUS, will be reduced from one of 4 possible values, to one of two generic but still correct values – for example, the dataset distingushes between cancelled and rejected and granted loans, however we will only distinguish between granted and not granted loans. Values that are binary but that don't use the binary alphabet will be transformed to use the binary alphabet as well.\n",
    "\n",
    "Defining a function that will return a copy of the dataframe with reduced fields."
   ],
   "cell_type": "markdown",
   "metadata": {}
  },
  {
   "cell_type": "code",
   "execution_count": 3,
   "metadata": {},
   "outputs": [],
   "source": [
    "def reduce(df, name, value):\n",
    "    if type(name) != str:\n",
    "        raise Exception('only one dimension is reduced at a time')\n",
    "    idx_name = df.columns.get_loc(name)\n",
    "    reduced = [(1 if df[name][i] == value else 0) for i in range(len(df))]\n",
    "    df_reduced = df.drop(labels=[name], axis=1)\n",
    "    df_reduced.insert(loc=idx_name, column=name, value=reduced)\n",
    "    return df_reduced"
   ]
  },
  {
   "cell_type": "code",
   "execution_count": 4,
   "metadata": {},
   "outputs": [
    {
     "output_type": "execute_result",
     "data": {
      "text/plain": [
       "   NAME_CONTRACT_STATUS  CODE_GENDER  FLAG_OWN_CAR  FLAG_OWN_REALTY  \\\n",
       "0                     1            1             0                1   \n",
       "1                     1            0             1                1   \n",
       "2                     1            0             0                0   \n",
       "3                     1            1             1                1   \n",
       "4                     1            0             0                1   \n",
       "5                     1            1             0                0   \n",
       "6                     0            1             1                1   \n",
       "7                     1            0             0                1   \n",
       "8                     1            0             1                1   \n",
       "9                     1            0             0                1   \n",
       "\n",
       "   AMT_INCOME_TOTAL  AMT_CREDIT      NAME_INCOME_TYPE  \\\n",
       "0          157500.0    177412.5               Working   \n",
       "1          247500.0     57208.5               Working   \n",
       "2           81000.0     47155.5  Commercial associate   \n",
       "3          193500.0    138249.0               Working   \n",
       "4           81000.0     15849.0               Working   \n",
       "5          315000.0     77634.0  Commercial associate   \n",
       "6          315000.0    131332.5  Commercial associate   \n",
       "7          112500.0    167431.5               Working   \n",
       "8          157500.0    103117.5               Working   \n",
       "9          301500.0     41229.0  Commercial associate   \n",
       "\n",
       "             NAME_EDUCATION_TYPE    NAME_FAMILY_STATUS  NAME_HOUSING_TYPE  \\\n",
       "0  Secondary / secondary special  Single / not married  House / apartment   \n",
       "1  Secondary / secondary special               Married  House / apartment   \n",
       "2  Secondary / secondary special  Single / not married  House / apartment   \n",
       "3  Secondary / secondary special               Married  House / apartment   \n",
       "4  Secondary / secondary special               Married  House / apartment   \n",
       "5               Higher education               Married  House / apartment   \n",
       "6  Secondary / secondary special               Married  House / apartment   \n",
       "7  Secondary / secondary special                 Widow  House / apartment   \n",
       "8               Higher education               Married  House / apartment   \n",
       "9               Higher education               Married  House / apartment   \n",
       "\n",
       "   DAYS_BIRTH  DAYS_EMPLOYED OCCUPATION_TYPE  CNT_FAM_MEMBERS  \\\n",
       "0      -20533          -2873        Laborers              1.0   \n",
       "1       -8042           -906     Sales staff              2.0   \n",
       "2      -11841          -1068      Core staff              2.0   \n",
       "3      -11817          -2151        Managers              4.0   \n",
       "4      -12661          -2269        Laborers              5.0   \n",
       "5      -13017          -1324        Laborers              4.0   \n",
       "6      -18567           -793        Managers              2.0   \n",
       "7      -12693          -5798        Laborers              2.0   \n",
       "8       -7962          -1392        Managers              3.0   \n",
       "9      -13726           -921        Managers              2.0   \n",
       "\n",
       "  NAME_CLIENT_TYPE  AMT_DOWN_PAYMENT  NAME_TYPE_SUITE      NAME_PAYMENT_TYPE  \n",
       "0              New              0.00  Spouse, partner  Cash through the bank  \n",
       "1              New              1.17    Unaccompanied  Cash through the bank  \n",
       "2              New           4945.50    Unaccompanied  Cash through the bank  \n",
       "3        Refreshed          59251.50    Unaccompanied  Cash through the bank  \n",
       "4         Repeater           6750.00    Unaccompanied  Cash through the bank  \n",
       "5              New          15696.00    Unaccompanied  Cash through the bank  \n",
       "6              New              0.00           Family  Cash through the bank  \n",
       "7         Repeater              0.00    Unaccompanied  Cash through the bank  \n",
       "8         Repeater          67500.00  Spouse, partner  Cash through the bank  \n",
       "9         Repeater           4365.00           Family  Cash through the bank  "
      ],
      "text/html": "<div>\n<style scoped>\n    .dataframe tbody tr th:only-of-type {\n        vertical-align: middle;\n    }\n\n    .dataframe tbody tr th {\n        vertical-align: top;\n    }\n\n    .dataframe thead th {\n        text-align: right;\n    }\n</style>\n<table border=\"1\" class=\"dataframe\">\n  <thead>\n    <tr style=\"text-align: right;\">\n      <th></th>\n      <th>NAME_CONTRACT_STATUS</th>\n      <th>CODE_GENDER</th>\n      <th>FLAG_OWN_CAR</th>\n      <th>FLAG_OWN_REALTY</th>\n      <th>AMT_INCOME_TOTAL</th>\n      <th>AMT_CREDIT</th>\n      <th>NAME_INCOME_TYPE</th>\n      <th>NAME_EDUCATION_TYPE</th>\n      <th>NAME_FAMILY_STATUS</th>\n      <th>NAME_HOUSING_TYPE</th>\n      <th>DAYS_BIRTH</th>\n      <th>DAYS_EMPLOYED</th>\n      <th>OCCUPATION_TYPE</th>\n      <th>CNT_FAM_MEMBERS</th>\n      <th>NAME_CLIENT_TYPE</th>\n      <th>AMT_DOWN_PAYMENT</th>\n      <th>NAME_TYPE_SUITE</th>\n      <th>NAME_PAYMENT_TYPE</th>\n    </tr>\n  </thead>\n  <tbody>\n    <tr>\n      <th>0</th>\n      <td>1</td>\n      <td>1</td>\n      <td>0</td>\n      <td>1</td>\n      <td>157500.0</td>\n      <td>177412.5</td>\n      <td>Working</td>\n      <td>Secondary / secondary special</td>\n      <td>Single / not married</td>\n      <td>House / apartment</td>\n      <td>-20533</td>\n      <td>-2873</td>\n      <td>Laborers</td>\n      <td>1.0</td>\n      <td>New</td>\n      <td>0.00</td>\n      <td>Spouse, partner</td>\n      <td>Cash through the bank</td>\n    </tr>\n    <tr>\n      <th>1</th>\n      <td>1</td>\n      <td>0</td>\n      <td>1</td>\n      <td>1</td>\n      <td>247500.0</td>\n      <td>57208.5</td>\n      <td>Working</td>\n      <td>Secondary / secondary special</td>\n      <td>Married</td>\n      <td>House / apartment</td>\n      <td>-8042</td>\n      <td>-906</td>\n      <td>Sales staff</td>\n      <td>2.0</td>\n      <td>New</td>\n      <td>1.17</td>\n      <td>Unaccompanied</td>\n      <td>Cash through the bank</td>\n    </tr>\n    <tr>\n      <th>2</th>\n      <td>1</td>\n      <td>0</td>\n      <td>0</td>\n      <td>0</td>\n      <td>81000.0</td>\n      <td>47155.5</td>\n      <td>Commercial associate</td>\n      <td>Secondary / secondary special</td>\n      <td>Single / not married</td>\n      <td>House / apartment</td>\n      <td>-11841</td>\n      <td>-1068</td>\n      <td>Core staff</td>\n      <td>2.0</td>\n      <td>New</td>\n      <td>4945.50</td>\n      <td>Unaccompanied</td>\n      <td>Cash through the bank</td>\n    </tr>\n    <tr>\n      <th>3</th>\n      <td>1</td>\n      <td>1</td>\n      <td>1</td>\n      <td>1</td>\n      <td>193500.0</td>\n      <td>138249.0</td>\n      <td>Working</td>\n      <td>Secondary / secondary special</td>\n      <td>Married</td>\n      <td>House / apartment</td>\n      <td>-11817</td>\n      <td>-2151</td>\n      <td>Managers</td>\n      <td>4.0</td>\n      <td>Refreshed</td>\n      <td>59251.50</td>\n      <td>Unaccompanied</td>\n      <td>Cash through the bank</td>\n    </tr>\n    <tr>\n      <th>4</th>\n      <td>1</td>\n      <td>0</td>\n      <td>0</td>\n      <td>1</td>\n      <td>81000.0</td>\n      <td>15849.0</td>\n      <td>Working</td>\n      <td>Secondary / secondary special</td>\n      <td>Married</td>\n      <td>House / apartment</td>\n      <td>-12661</td>\n      <td>-2269</td>\n      <td>Laborers</td>\n      <td>5.0</td>\n      <td>Repeater</td>\n      <td>6750.00</td>\n      <td>Unaccompanied</td>\n      <td>Cash through the bank</td>\n    </tr>\n    <tr>\n      <th>5</th>\n      <td>1</td>\n      <td>1</td>\n      <td>0</td>\n      <td>0</td>\n      <td>315000.0</td>\n      <td>77634.0</td>\n      <td>Commercial associate</td>\n      <td>Higher education</td>\n      <td>Married</td>\n      <td>House / apartment</td>\n      <td>-13017</td>\n      <td>-1324</td>\n      <td>Laborers</td>\n      <td>4.0</td>\n      <td>New</td>\n      <td>15696.00</td>\n      <td>Unaccompanied</td>\n      <td>Cash through the bank</td>\n    </tr>\n    <tr>\n      <th>6</th>\n      <td>0</td>\n      <td>1</td>\n      <td>1</td>\n      <td>1</td>\n      <td>315000.0</td>\n      <td>131332.5</td>\n      <td>Commercial associate</td>\n      <td>Secondary / secondary special</td>\n      <td>Married</td>\n      <td>House / apartment</td>\n      <td>-18567</td>\n      <td>-793</td>\n      <td>Managers</td>\n      <td>2.0</td>\n      <td>New</td>\n      <td>0.00</td>\n      <td>Family</td>\n      <td>Cash through the bank</td>\n    </tr>\n    <tr>\n      <th>7</th>\n      <td>1</td>\n      <td>0</td>\n      <td>0</td>\n      <td>1</td>\n      <td>112500.0</td>\n      <td>167431.5</td>\n      <td>Working</td>\n      <td>Secondary / secondary special</td>\n      <td>Widow</td>\n      <td>House / apartment</td>\n      <td>-12693</td>\n      <td>-5798</td>\n      <td>Laborers</td>\n      <td>2.0</td>\n      <td>Repeater</td>\n      <td>0.00</td>\n      <td>Unaccompanied</td>\n      <td>Cash through the bank</td>\n    </tr>\n    <tr>\n      <th>8</th>\n      <td>1</td>\n      <td>0</td>\n      <td>1</td>\n      <td>1</td>\n      <td>157500.0</td>\n      <td>103117.5</td>\n      <td>Working</td>\n      <td>Higher education</td>\n      <td>Married</td>\n      <td>House / apartment</td>\n      <td>-7962</td>\n      <td>-1392</td>\n      <td>Managers</td>\n      <td>3.0</td>\n      <td>Repeater</td>\n      <td>67500.00</td>\n      <td>Spouse, partner</td>\n      <td>Cash through the bank</td>\n    </tr>\n    <tr>\n      <th>9</th>\n      <td>1</td>\n      <td>0</td>\n      <td>0</td>\n      <td>1</td>\n      <td>301500.0</td>\n      <td>41229.0</td>\n      <td>Commercial associate</td>\n      <td>Higher education</td>\n      <td>Married</td>\n      <td>House / apartment</td>\n      <td>-13726</td>\n      <td>-921</td>\n      <td>Managers</td>\n      <td>2.0</td>\n      <td>Repeater</td>\n      <td>4365.00</td>\n      <td>Family</td>\n      <td>Cash through the bank</td>\n    </tr>\n  </tbody>\n</table>\n</div>"
     },
     "metadata": {},
     "execution_count": 4
    }
   ],
   "source": [
    "df_reduced = df\n",
    "df_reduced = reduce(df_reduced, 'NAME_CONTRACT_STATUS', 'Approved') # 1 if approved else 0\n",
    "df_reduced = reduce(df_reduced, 'CODE_GENDER', 'M') # 1 if male else 0\n",
    "df_reduced = reduce(df_reduced, 'FLAG_OWN_CAR', 'Y') # 1 if owns car else 0\n",
    "df_reduced = reduce(df_reduced, 'FLAG_OWN_REALTY', 'Y') # 1 if owns property else 0\n",
    "\n",
    "df_reduced.head(10)"
   ]
  },
  {
   "source": [
    "## One-Hot Encoding\n",
    "defining a function that returns a copy of the input dataframe with a specific dimension one-hot encoded"
   ],
   "cell_type": "markdown",
   "metadata": {}
  },
  {
   "cell_type": "code",
   "execution_count": 5,
   "metadata": {
    "tags": []
   },
   "outputs": [],
   "source": [
    "def one_hot_encode(df, name, prefix=''):\n",
    "    if type(name) != str:\n",
    "        raise Exception('one hot encoding applies to one dimension at a time')\n",
    "    if len(df) == 0:\n",
    "        raise Exception('dataframe is empty')\n",
    "    \n",
    "    df = df.copy()\n",
    "    values = df[name].unique()\n",
    "    \n",
    "    #for each unique value, we create a new column where df[row][new column] is 1 if the value of df[row][value] == new column\n",
    "    for v in values:\n",
    "        one_hot_column = [(1 if df[name][i] == v else 0) for i in range(len(df))]\n",
    "        df.insert(loc=len(df.loc[0]), column=prefix + str(v), value=one_hot_column)\n",
    "\n",
    "    return df.drop(labels=[name], axis=1)"
   ]
  },
  {
   "source": [
    "performing one-hot encoding on any dimension whose values are one of a set of string values"
   ],
   "cell_type": "markdown",
   "metadata": {}
  },
  {
   "cell_type": "code",
   "execution_count": 6,
   "metadata": {},
   "outputs": [
    {
     "output_type": "execute_result",
     "data": {
      "text/plain": [
       "   NAME_CONTRACT_STATUS  CODE_GENDER  FLAG_OWN_CAR  FLAG_OWN_REALTY  \\\n",
       "0                     1            1             0                1   \n",
       "1                     1            0             1                1   \n",
       "2                     1            0             0                0   \n",
       "3                     1            1             1                1   \n",
       "4                     1            0             0                1   \n",
       "5                     1            1             0                0   \n",
       "6                     0            1             1                1   \n",
       "7                     1            0             0                1   \n",
       "8                     1            0             1                1   \n",
       "9                     1            0             0                1   \n",
       "\n",
       "   AMT_INCOME_TOTAL  AMT_CREDIT  DAYS_BIRTH  DAYS_EMPLOYED  AMT_DOWN_PAYMENT  \\\n",
       "0          157500.0    177412.5      -20533          -2873              0.00   \n",
       "1          247500.0     57208.5       -8042           -906              1.17   \n",
       "2           81000.0     47155.5      -11841          -1068           4945.50   \n",
       "3          193500.0    138249.0      -11817          -2151          59251.50   \n",
       "4           81000.0     15849.0      -12661          -2269           6750.00   \n",
       "5          315000.0     77634.0      -13017          -1324          15696.00   \n",
       "6          315000.0    131332.5      -18567           -793              0.00   \n",
       "7          112500.0    167431.5      -12693          -5798              0.00   \n",
       "8          157500.0    103117.5       -7962          -1392          67500.00   \n",
       "9          301500.0     41229.0      -13726           -921           4365.00   \n",
       "\n",
       "   Working  ...  Spouse, partner  Unaccompanied  Family  Children  Other_B  \\\n",
       "0        1  ...                1              0       0         0        0   \n",
       "1        1  ...                0              1       0         0        0   \n",
       "2        0  ...                0              1       0         0        0   \n",
       "3        1  ...                0              1       0         0        0   \n",
       "4        1  ...                0              1       0         0        0   \n",
       "5        0  ...                0              1       0         0        0   \n",
       "6        0  ...                0              0       1         0        0   \n",
       "7        1  ...                0              1       0         0        0   \n",
       "8        1  ...                1              0       0         0        0   \n",
       "9        0  ...                0              0       1         0        0   \n",
       "\n",
       "   Other_A  Group of people  Cash through the bank  \\\n",
       "0        0                0                      1   \n",
       "1        0                0                      1   \n",
       "2        0                0                      1   \n",
       "3        0                0                      1   \n",
       "4        0                0                      1   \n",
       "5        0                0                      1   \n",
       "6        0                0                      1   \n",
       "7        0                0                      1   \n",
       "8        0                0                      1   \n",
       "9        0                0                      1   \n",
       "\n",
       "   Non-cash from your account  Cashless from the account of the employer  \n",
       "0                           0                                          0  \n",
       "1                           0                                          0  \n",
       "2                           0                                          0  \n",
       "3                           0                                          0  \n",
       "4                           0                                          0  \n",
       "5                           0                                          0  \n",
       "6                           0                                          0  \n",
       "7                           0                                          0  \n",
       "8                           0                                          0  \n",
       "9                           0                                          0  \n",
       "\n",
       "[10 rows x 68 columns]"
      ],
      "text/html": "<div>\n<style scoped>\n    .dataframe tbody tr th:only-of-type {\n        vertical-align: middle;\n    }\n\n    .dataframe tbody tr th {\n        vertical-align: top;\n    }\n\n    .dataframe thead th {\n        text-align: right;\n    }\n</style>\n<table border=\"1\" class=\"dataframe\">\n  <thead>\n    <tr style=\"text-align: right;\">\n      <th></th>\n      <th>NAME_CONTRACT_STATUS</th>\n      <th>CODE_GENDER</th>\n      <th>FLAG_OWN_CAR</th>\n      <th>FLAG_OWN_REALTY</th>\n      <th>AMT_INCOME_TOTAL</th>\n      <th>AMT_CREDIT</th>\n      <th>DAYS_BIRTH</th>\n      <th>DAYS_EMPLOYED</th>\n      <th>AMT_DOWN_PAYMENT</th>\n      <th>Working</th>\n      <th>...</th>\n      <th>Spouse, partner</th>\n      <th>Unaccompanied</th>\n      <th>Family</th>\n      <th>Children</th>\n      <th>Other_B</th>\n      <th>Other_A</th>\n      <th>Group of people</th>\n      <th>Cash through the bank</th>\n      <th>Non-cash from your account</th>\n      <th>Cashless from the account of the employer</th>\n    </tr>\n  </thead>\n  <tbody>\n    <tr>\n      <th>0</th>\n      <td>1</td>\n      <td>1</td>\n      <td>0</td>\n      <td>1</td>\n      <td>157500.0</td>\n      <td>177412.5</td>\n      <td>-20533</td>\n      <td>-2873</td>\n      <td>0.00</td>\n      <td>1</td>\n      <td>...</td>\n      <td>1</td>\n      <td>0</td>\n      <td>0</td>\n      <td>0</td>\n      <td>0</td>\n      <td>0</td>\n      <td>0</td>\n      <td>1</td>\n      <td>0</td>\n      <td>0</td>\n    </tr>\n    <tr>\n      <th>1</th>\n      <td>1</td>\n      <td>0</td>\n      <td>1</td>\n      <td>1</td>\n      <td>247500.0</td>\n      <td>57208.5</td>\n      <td>-8042</td>\n      <td>-906</td>\n      <td>1.17</td>\n      <td>1</td>\n      <td>...</td>\n      <td>0</td>\n      <td>1</td>\n      <td>0</td>\n      <td>0</td>\n      <td>0</td>\n      <td>0</td>\n      <td>0</td>\n      <td>1</td>\n      <td>0</td>\n      <td>0</td>\n    </tr>\n    <tr>\n      <th>2</th>\n      <td>1</td>\n      <td>0</td>\n      <td>0</td>\n      <td>0</td>\n      <td>81000.0</td>\n      <td>47155.5</td>\n      <td>-11841</td>\n      <td>-1068</td>\n      <td>4945.50</td>\n      <td>0</td>\n      <td>...</td>\n      <td>0</td>\n      <td>1</td>\n      <td>0</td>\n      <td>0</td>\n      <td>0</td>\n      <td>0</td>\n      <td>0</td>\n      <td>1</td>\n      <td>0</td>\n      <td>0</td>\n    </tr>\n    <tr>\n      <th>3</th>\n      <td>1</td>\n      <td>1</td>\n      <td>1</td>\n      <td>1</td>\n      <td>193500.0</td>\n      <td>138249.0</td>\n      <td>-11817</td>\n      <td>-2151</td>\n      <td>59251.50</td>\n      <td>1</td>\n      <td>...</td>\n      <td>0</td>\n      <td>1</td>\n      <td>0</td>\n      <td>0</td>\n      <td>0</td>\n      <td>0</td>\n      <td>0</td>\n      <td>1</td>\n      <td>0</td>\n      <td>0</td>\n    </tr>\n    <tr>\n      <th>4</th>\n      <td>1</td>\n      <td>0</td>\n      <td>0</td>\n      <td>1</td>\n      <td>81000.0</td>\n      <td>15849.0</td>\n      <td>-12661</td>\n      <td>-2269</td>\n      <td>6750.00</td>\n      <td>1</td>\n      <td>...</td>\n      <td>0</td>\n      <td>1</td>\n      <td>0</td>\n      <td>0</td>\n      <td>0</td>\n      <td>0</td>\n      <td>0</td>\n      <td>1</td>\n      <td>0</td>\n      <td>0</td>\n    </tr>\n    <tr>\n      <th>5</th>\n      <td>1</td>\n      <td>1</td>\n      <td>0</td>\n      <td>0</td>\n      <td>315000.0</td>\n      <td>77634.0</td>\n      <td>-13017</td>\n      <td>-1324</td>\n      <td>15696.00</td>\n      <td>0</td>\n      <td>...</td>\n      <td>0</td>\n      <td>1</td>\n      <td>0</td>\n      <td>0</td>\n      <td>0</td>\n      <td>0</td>\n      <td>0</td>\n      <td>1</td>\n      <td>0</td>\n      <td>0</td>\n    </tr>\n    <tr>\n      <th>6</th>\n      <td>0</td>\n      <td>1</td>\n      <td>1</td>\n      <td>1</td>\n      <td>315000.0</td>\n      <td>131332.5</td>\n      <td>-18567</td>\n      <td>-793</td>\n      <td>0.00</td>\n      <td>0</td>\n      <td>...</td>\n      <td>0</td>\n      <td>0</td>\n      <td>1</td>\n      <td>0</td>\n      <td>0</td>\n      <td>0</td>\n      <td>0</td>\n      <td>1</td>\n      <td>0</td>\n      <td>0</td>\n    </tr>\n    <tr>\n      <th>7</th>\n      <td>1</td>\n      <td>0</td>\n      <td>0</td>\n      <td>1</td>\n      <td>112500.0</td>\n      <td>167431.5</td>\n      <td>-12693</td>\n      <td>-5798</td>\n      <td>0.00</td>\n      <td>1</td>\n      <td>...</td>\n      <td>0</td>\n      <td>1</td>\n      <td>0</td>\n      <td>0</td>\n      <td>0</td>\n      <td>0</td>\n      <td>0</td>\n      <td>1</td>\n      <td>0</td>\n      <td>0</td>\n    </tr>\n    <tr>\n      <th>8</th>\n      <td>1</td>\n      <td>0</td>\n      <td>1</td>\n      <td>1</td>\n      <td>157500.0</td>\n      <td>103117.5</td>\n      <td>-7962</td>\n      <td>-1392</td>\n      <td>67500.00</td>\n      <td>1</td>\n      <td>...</td>\n      <td>1</td>\n      <td>0</td>\n      <td>0</td>\n      <td>0</td>\n      <td>0</td>\n      <td>0</td>\n      <td>0</td>\n      <td>1</td>\n      <td>0</td>\n      <td>0</td>\n    </tr>\n    <tr>\n      <th>9</th>\n      <td>1</td>\n      <td>0</td>\n      <td>0</td>\n      <td>1</td>\n      <td>301500.0</td>\n      <td>41229.0</td>\n      <td>-13726</td>\n      <td>-921</td>\n      <td>4365.00</td>\n      <td>0</td>\n      <td>...</td>\n      <td>0</td>\n      <td>0</td>\n      <td>1</td>\n      <td>0</td>\n      <td>0</td>\n      <td>0</td>\n      <td>0</td>\n      <td>1</td>\n      <td>0</td>\n      <td>0</td>\n    </tr>\n  </tbody>\n</table>\n<p>10 rows × 68 columns</p>\n</div>"
     },
     "metadata": {},
     "execution_count": 6
    }
   ],
   "source": [
    "df_encoded = df_reduced\n",
    "df_encoded = one_hot_encode(df_encoded, 'NAME_INCOME_TYPE')\n",
    "df_encoded = one_hot_encode(df_encoded, 'NAME_EDUCATION_TYPE')\n",
    "df_encoded = one_hot_encode(df_encoded, 'NAME_FAMILY_STATUS')\n",
    "df_encoded = one_hot_encode(df_encoded, 'NAME_HOUSING_TYPE')\n",
    "df_encoded = one_hot_encode(df_encoded, 'OCCUPATION_TYPE')\n",
    "df_encoded = one_hot_encode(df_encoded, 'CNT_FAM_MEMBERS', prefix='CNT_FAM_MEM_')\n",
    "df_encoded = one_hot_encode(df_encoded, 'NAME_CLIENT_TYPE')\n",
    "df_encoded = one_hot_encode(df_encoded, 'NAME_TYPE_SUITE')\n",
    "df_encoded = one_hot_encode(df_encoded, 'NAME_PAYMENT_TYPE')\n",
    "df_all_features = df_encoded\n",
    "\n",
    "#sanity check the dataframe before any work on it begins\n",
    "df_all_features.head(10)"
   ]
  },
  {
   "source": [
    "# Training the models"
   ],
   "cell_type": "markdown",
   "metadata": {}
  },
  {
   "source": [
    "## Split the dataframe into X and y as numpy arrays"
   ],
   "cell_type": "markdown",
   "metadata": {}
  },
  {
   "source": [
    "normalize the data"
   ],
   "cell_type": "markdown",
   "metadata": {}
  },
  {
   "cell_type": "code",
   "execution_count": 7,
   "metadata": {},
   "outputs": [],
   "source": [
    "from sklearn import preprocessing\n",
    "to_scale = [\n",
    "    'AMT_INCOME_TOTAL',\n",
    "    'AMT_CREDIT',\n",
    "    'DAYS_BIRTH',\n",
    "    'DAYS_EMPLOYED',\n",
    "    'AMT_DOWN_PAYMENT'\n",
    "]\n",
    "subframe = df_all_features[to_scale].copy()\n",
    "scaler = preprocessing.MinMaxScaler().fit(subframe.values)\n",
    "subframe = scaler.transform(subframe.values)\n",
    "df_all_features[to_scale] = subframe\n",
    "df_final = df_all_features"
   ]
  },
  {
   "source": [
    "convert the dataframe into a numpy tensor"
   ],
   "cell_type": "markdown",
   "metadata": {}
  },
  {
   "cell_type": "code",
   "execution_count": 14,
   "metadata": {
    "tags": []
   },
   "outputs": [],
   "source": [
    "data = np.array(df_final)\n",
    "\n",
    "#undersample the target 1's so that the dataset is exactly balanced\n",
    "num_zero = len(data[data[:,0]==0])\n",
    "num_one = num_zero\n",
    "\n",
    "#balance the amount of approvals and rejections\n",
    "data = np.vstack((\n",
    "    data[data[:,0]==1][:num_one,:],\n",
    "    data[data[:,0]==0]\n",
    "))\n",
    "np.random.shuffle(data)\n",
    "\n",
    "#create a test set for later after running all models\n",
    "from sklearn.model_selection import train_test_split\n",
    "data_for_modelling, data_for_testing = train_test_split(data, train_size=0.8,test_size=0.2)\n",
    "data_for_testing_X = data_for_testing[:,1:]\n",
    "data_for_testing_y = data_for_testing[:,0].astype(np.int32)\n",
    "global_best_model = None\n",
    "global_best_accuracy = list([0.0]) #used to update global_best_model\n",
    "def global_update_best(candidate):\n",
    "    acc = candidate.score(data_for_testing_X, data_for_testing_y)\n",
    "    if acc > global_best_accuracy[0]:\n",
    "        global_best_accuracy[0] = acc\n",
    "        global_best_model = candidate\n",
    "\n",
    "X = data_for_modelling[:,1:]\n",
    "y = data_for_modelling[:,0].astype(np.int32)"
   ]
  },
  {
   "source": [
    "## Creating the test class\n",
    "We will create a class that collects everything we need to build and to analyze a model. The class will point to our data, and to a model building algorithm, and will provide functionality for presenting results."
   ],
   "cell_type": "markdown",
   "metadata": {}
  },
  {
   "cell_type": "code",
   "execution_count": 15,
   "metadata": {},
   "outputs": [],
   "source": [
    "from sklearn.model_selection import KFold\n",
    "\n",
    "class Test:\n",
    "    def __init__(self, name, X, y, algorithm, args):\n",
    "        self.name = name\n",
    "        self.X = X  #pointer, not copy\n",
    "        self.y = y\n",
    "        self.algorithm = algorithm\n",
    "        self.args = args\n",
    "        \n",
    "        self.predictions=None\n",
    "        self.accs_train=None\n",
    "        self.accs_test=None\n",
    "        self.best_acc_index=None\n",
    "        self.models = None\n",
    "    \n",
    "    def get_args(self):\n",
    "        return dict(self.args)\n",
    "    \n",
    "    def get_models(self):\n",
    "        if self.models is None:\n",
    "            raise Exception('test has not yet been run')\n",
    "        return list(self.models)\n",
    "    \n",
    "    def get_model(self):\n",
    "        return self.get_models()[self.best_acc_index]\n",
    "    \n",
    "    def get_training_accuracies(self):\n",
    "        if self.accs_train is None:\n",
    "            raise Exception('test has not yet been run')\n",
    "        return list(self.accs_train)\n",
    "\n",
    "    def get_accuracy_training(self):\n",
    "        return self.get_training_accuracies()[self.best_acc_index]\n",
    "\n",
    "    def get_testing_accuracies(self):\n",
    "        if self.accs_test is None:\n",
    "            raise Exception('test has not yet been run')\n",
    "        return list(self.accs_test)\n",
    "    \n",
    "    def get_accuracy(self):\n",
    "        return self.get_testing_accuracies()[self.best_acc_index]\n",
    "\n",
    "    def get_predictions(self):\n",
    "        if self.predictions is None:\n",
    "            raise Exception('test has not yet been run')\n",
    "        return list(self.predictions)\n",
    "    \n",
    "    def get_best_prediction(self):\n",
    "        return self.get_predictions()[self.best_acc_index]\n",
    "    \n",
    "    #obtain accuracy using k-fold cross validation\n",
    "    def run(self, k_fold_splits=5):\n",
    "\n",
    "        predictions = []\n",
    "        accs_train = []\n",
    "        accs_test = []\n",
    "        best_acc_test = 0\n",
    "        best_acc_index = 0\n",
    "        models = []\n",
    "        \n",
    "        kfold_model = KFold(n_splits=k_fold_splits, random_state=None, shuffle=False)\n",
    "        \n",
    "        i = 0\n",
    "        for train_index, test_index in kfold_model.split(self.X):\n",
    "            X_train = self.X[train_index]\n",
    "            y_train = self.y[train_index]\n",
    "            X_test = self.X[test_index]\n",
    "            y_test = self.y[test_index]\n",
    "            model = self.algorithm(**self.args)\n",
    "            model.fit(X_train, y_train)\n",
    "            models.append(model)\n",
    "            accs_train.append(model.score(X_train,y_train))\n",
    "            acc_test = model.score(X_test,y_test)\n",
    "            accs_test.append(acc_test)\n",
    "            if acc_test > best_acc_test:\n",
    "                best_acc_test = acc_test\n",
    "                best_acc_index = i\n",
    "            predictions.append(model.predict(X_test))\n",
    "            i += 1\n",
    "        \n",
    "        self.accs_test = accs_test\n",
    "        self.predictions = predictions\n",
    "        self.accs_train = accs_train\n",
    "        self.best_acc_index = best_acc_index\n",
    "        self.models = models\n",
    "\n",
    "    \n",
    "    def display(self):\n",
    "        print(f'\\n\\n{self.name}\\n' + '='*len(self.name))\n",
    "        acc_train = self.get_accuracy_training()\n",
    "        acc_test = self.get_accuracy()\n",
    "        prediction = self.get_best_prediction()\n",
    "        print(f'Mean prediction: {np.round(np.mean(np.array(prediction)), 2)}')\n",
    "        print(f'Training accuracy: {acc_train}')\n",
    "        print(f'Test accuracy: {acc_test}')"
   ]
  },
  {
   "source": [
    "## Support Vector Machine Modelling\n",
    "The motivation behind support vector machines is that we are building a line of best fit between two datasets, where \"best\" is defined by an objective function of distance between our line of best fit and between critical points, called support vectors, of these datasets. Support vectors are the closest points to a line of best fit. Our best fit line is also a decision boundary."
   ],
   "cell_type": "markdown",
   "metadata": {}
  },
  {
   "cell_type": "code",
   "execution_count": 16,
   "metadata": {},
   "outputs": [],
   "source": [
    "from sklearn import svm"
   ]
  },
  {
   "source": [
    "svm_linear_tests = [\n",
    "    Test(\n",
    "        name=f'SVM linear with C of {i}',\n",
    "        X=X,\n",
    "        y=y,\n",
    "        algorithm=svm.SVC,\n",
    "        args={'kernel': 'linear', 'C': i}\n",
    "    )\n",
    "    for i in [0.001, 0.01, 0.1, 1, 10]\n",
    "]\n",
    "\n",
    "# run tests\n",
    "for test in svm_linear_tests:\n",
    "    test.run()\n",
    "    test.display()\n",
    "    global_update_best(test.get_model())\n"
   ],
   "cell_type": "code",
   "metadata": {},
   "execution_count": 17,
   "outputs": [
    {
     "output_type": "stream",
     "name": "stdout",
     "text": [
      "\n\nSVM linear with C of 0.001\n==========================\nMean prediction: 0.0\nTraining accuracy: 0.5048107761385503\nTest accuracy: 0.5038560411311054\n"
     ]
    },
    {
     "output_type": "error",
     "ename": "UnboundLocalError",
     "evalue": "local variable 'global_best_accuracy' referenced before assignment",
     "traceback": [
      "\u001b[0;31m---------------------------------------------------------------------------\u001b[0m",
      "\u001b[0;31mUnboundLocalError\u001b[0m                         Traceback (most recent call last)",
      "\u001b[0;32m<ipython-input-17-a278d103969d>\u001b[0m in \u001b[0;36m<module>\u001b[0;34m\u001b[0m\n\u001b[1;32m     14\u001b[0m     \u001b[0mtest\u001b[0m\u001b[0;34m.\u001b[0m\u001b[0mrun\u001b[0m\u001b[0;34m(\u001b[0m\u001b[0;34m)\u001b[0m\u001b[0;34m\u001b[0m\u001b[0;34m\u001b[0m\u001b[0m\n\u001b[1;32m     15\u001b[0m     \u001b[0mtest\u001b[0m\u001b[0;34m.\u001b[0m\u001b[0mdisplay\u001b[0m\u001b[0;34m(\u001b[0m\u001b[0;34m)\u001b[0m\u001b[0;34m\u001b[0m\u001b[0;34m\u001b[0m\u001b[0m\n\u001b[0;32m---> 16\u001b[0;31m     \u001b[0mglobal_update_best\u001b[0m\u001b[0;34m(\u001b[0m\u001b[0mtest\u001b[0m\u001b[0;34m.\u001b[0m\u001b[0mget_model\u001b[0m\u001b[0;34m(\u001b[0m\u001b[0;34m)\u001b[0m\u001b[0;34m)\u001b[0m\u001b[0;34m\u001b[0m\u001b[0;34m\u001b[0m\u001b[0m\n\u001b[0m",
      "\u001b[0;32m<ipython-input-14-f9d056da4021>\u001b[0m in \u001b[0;36mglobal_update_best\u001b[0;34m(candidate)\u001b[0m\n\u001b[1;32m     21\u001b[0m \u001b[0;32mdef\u001b[0m \u001b[0mglobal_update_best\u001b[0m\u001b[0;34m(\u001b[0m\u001b[0mcandidate\u001b[0m\u001b[0;34m)\u001b[0m\u001b[0;34m:\u001b[0m\u001b[0;34m\u001b[0m\u001b[0;34m\u001b[0m\u001b[0m\n\u001b[1;32m     22\u001b[0m     \u001b[0macc\u001b[0m \u001b[0;34m=\u001b[0m \u001b[0mcandidate\u001b[0m\u001b[0;34m.\u001b[0m\u001b[0mscore\u001b[0m\u001b[0;34m(\u001b[0m\u001b[0mdata_for_testing_X\u001b[0m\u001b[0;34m,\u001b[0m \u001b[0mdata_for_testing_y\u001b[0m\u001b[0;34m)\u001b[0m\u001b[0;34m\u001b[0m\u001b[0;34m\u001b[0m\u001b[0m\n\u001b[0;32m---> 23\u001b[0;31m     \u001b[0;32mif\u001b[0m \u001b[0macc\u001b[0m \u001b[0;34m>\u001b[0m \u001b[0mglobal_best_accuracy\u001b[0m\u001b[0;34m:\u001b[0m\u001b[0;34m\u001b[0m\u001b[0;34m\u001b[0m\u001b[0m\n\u001b[0m\u001b[1;32m     24\u001b[0m         \u001b[0mglobal_best_accuracy\u001b[0m \u001b[0;34m=\u001b[0m \u001b[0macc\u001b[0m\u001b[0;34m\u001b[0m\u001b[0;34m\u001b[0m\u001b[0m\n\u001b[1;32m     25\u001b[0m         \u001b[0mglobal_best_model\u001b[0m \u001b[0;34m=\u001b[0m \u001b[0mcandidate\u001b[0m\u001b[0;34m\u001b[0m\u001b[0;34m\u001b[0m\u001b[0m\n",
      "\u001b[0;31mUnboundLocalError\u001b[0m: local variable 'global_best_accuracy' referenced before assignment"
     ]
    }
   ]
  },
  {
   "source": [
    "svm_rbf_tests = [\n",
    "    Test(\n",
    "        name=f'SVM rbf of with C of {i}',\n",
    "        X=X,\n",
    "        y=y,\n",
    "        algorithm=svm.SVC,\n",
    "        args={'kernel': 'rbf', 'C': i}\n",
    "    )\n",
    "    for i in [0.001, 0.01, 0.1, 1, 10]\n",
    "]\n",
    "\n",
    "\n",
    "#run tests while recording values to plot\n",
    "svm_rbf_acc_train = [] \n",
    "svm_rbf_acc_test = []\n",
    "svm_rbf_c = []\n",
    "\n",
    "for test in svm_rbf_tests:\n",
    "    test.run()\n",
    "    test.display()\n",
    "    svm_rbf_c.append(test.get_args()['C'])\n",
    "    svm_rbf_acc_train.append(test.get_accuracy_training())\n",
    "    svm_rbf_acc_test.append(test.get_accuracy())\n",
    "    global_update_best(test.get_model())\n",
    "\n",
    "\n",
    "print(\"plot of how accuracy changes on the single parameter C\")\n",
    "plt.title('Accuracy vs C')\n",
    "plt.plot(svm_rbf_c,svm_rbf_acc_train)\n",
    "plt.plot(svm_rbf_c,svm_rbf_acc_test)\n",
    "plt.legend(['Training Accuracy', 'Test Accuracy'], loc='lower right')"
   ],
   "cell_type": "code",
   "metadata": {},
   "execution_count": null,
   "outputs": []
  },
  {
   "source": [
    "pairs = []\n",
    "for degree in range(1,6):\n",
    "    for C in [0.01, 0.1, 1]:\n",
    "        pairs.append((degree, C))\n",
    "\n",
    "svm_poly_tests = [\n",
    "    Test(\n",
    "        name=f'SVM poly of degree {degree} and with C of {C}',\n",
    "        X=X,\n",
    "        y=y,\n",
    "        algorithm=svm.SVC,\n",
    "        args={'kernel': 'poly', 'C': C, 'degree': degree}\n",
    "    )\n",
    "    for (degree, C) in pairs\n",
    "]\n",
    "\n",
    "for test in svm_poly_tests:\n",
    "    test.run()\n",
    "    test.display()\n",
    "    global_update_best(test.get_model())"
   ],
   "cell_type": "code",
   "metadata": {
    "tags": []
   },
   "execution_count": null,
   "outputs": []
  },
  {
   "source": [
    "## Logistic Regression Modelling\n",
    "The motivation behind Logistic Regression modelling is that we attempt to *explain*, by defining a **likely** decision boundary, why a specific dataset is split the way it is. Our objective function is best when it is most likely the explanation for the given dataset split. We avoid overfitting by introducing a penalty function that is some function of weights that is then scaled by a ∆."
   ],
   "cell_type": "markdown",
   "metadata": {}
  },
  {
   "cell_type": "code",
   "execution_count": null,
   "metadata": {},
   "outputs": [],
   "source": [
    "from sklearn import linear_model\n",
    "from sklearn.exceptions import ConvergenceWarning\n",
    "import warnings\n",
    "warnings.filterwarnings(action='ignore', category=ConvergenceWarning)"
   ]
  },
  {
   "cell_type": "code",
   "execution_count": null,
   "metadata": {},
   "outputs": [],
   "source": [
    "logreg_l1_tests = [\n",
    "    Test(\n",
    "        name=f'Logreg l1 penalty with ∆={i}',\n",
    "        X=X,\n",
    "        y=y,\n",
    "        algorithm=linear_model.LogisticRegression,\n",
    "        args={'penalty':'l1', 'solver':'saga', 'C':i}\n",
    "    )\n",
    "    for i in [0.0001, 0.001, 0.01, 0.1, 1, 10]\n",
    "]\n",
    "\n",
    "best_model = None\n",
    "best_accuracy = 0\n",
    "for test in logreg_l1_tests:\n",
    "    test.run()\n",
    "    test.display()\n",
    "    accuracy = test.get_accuracy()\n",
    "    if accuracy > best_accuracy:\n",
    "        best_accuracy = accuracy\n",
    "        best_model = test.get_model()\n",
    "\n",
    "global_update_best(best_model)\n",
    "\n",
    "print('\\n')\n",
    "coefs = np.round(best_model.coef_.ravel(),3).tolist()\n",
    "print(f'coefficents: {coefs}')\n",
    "plt.figure(figsize=(20,7))\n",
    "plt.title('coefficient of each dimension')\n",
    "plt.scatter(\n",
    "    df_final.columns[1:].tolist(),  #'1:' to avoid the target variable\n",
    "    coefs\n",
    ")\n",
    "plt.tick_params(axis='x', rotation = 90)\n",
    "plt.xlabel('dimension')\n",
    "plt.ylabel('coefficient')\n",
    "plt.plot([0,len(coefs)],[0,0],c='red')\n",
    "plt.show()\n"
   ]
  },
  {
   "source": [],
   "cell_type": "markdown",
   "metadata": {}
  },
  {
   "cell_type": "code",
   "execution_count": null,
   "metadata": {},
   "outputs": [],
   "source": [
    "logreg_l2_tests = [\n",
    "    Test(\n",
    "        name=f'Logreg l2 penalty with ∆={i}',\n",
    "        X=X,\n",
    "        y=y,\n",
    "        algorithm=linear_model.LogisticRegression,\n",
    "        args={'penalty':'l2', 'solver':'saga', 'C':i}\n",
    "    )\n",
    "    for i in [0.0001, 0.001, 0.01, 0.1, 1, 10]\n",
    "]\n",
    "\n",
    "\n",
    "best_model = None\n",
    "best_accuracy = 0\n",
    "for test in logreg_l2_tests:\n",
    "    test.run()\n",
    "    test.display()\n",
    "    accuracy = test.get_accuracy()\n",
    "    if accuracy > best_accuracy:\n",
    "        best_accuracy = accuracy\n",
    "        best_model = test.get_model()\n",
    "\n",
    "global_update_best(best_model)\n",
    "\n",
    "print('\\n')\n",
    "coefs = np.round(best_model.coef_.ravel(),3).tolist()\n",
    "print(f'coefficents: {coefs}')\n",
    "plt.figure(figsize=(20,7))\n",
    "plt.title('coefficient of each dimension')\n",
    "plt.scatter(\n",
    "    df_final.columns[1:].tolist(),  #'1:' to avoid the target variable\n",
    "    coefs\n",
    ")\n",
    "plt.tick_params(axis='x', rotation = 90)\n",
    "plt.xlabel('dimension')\n",
    "plt.ylabel('coefficient')\n",
    "plt.plot([0,len(coefs)],[0,0],c='red')\n",
    "plt.show()"
   ]
  },
  {
   "source": [
    "## Neural Network Modelling\n",
    "The motvation behind neural network modelling is that we attempt to define abstractions that are functions of other abstractions that are functions of our input. At a high level, a neural network is a set of functions that are defined as computation graphs. To improve our function, we find the gradient of our augmented error function that includes a penalty function, just as in logistic regression."
   ],
   "cell_type": "markdown",
   "metadata": {}
  },
  {
   "cell_type": "code",
   "execution_count": null,
   "metadata": {},
   "outputs": [],
   "source": [
    "#code reference: https://scikit-learn.org/stable/modules/neural_networks_supervised.html\n",
    "from sklearn.neural_network import MLPClassifier"
   ]
  },
  {
   "cell_type": "code",
   "execution_count": null,
   "metadata": {},
   "outputs": [],
   "source": [
    "nn_sgd_tests = [\n",
    "    Test(\n",
    "        name='NN using stochastic gradient descent and logistic activation with small ∆',\n",
    "        X=X,\n",
    "        y=y,\n",
    "        algorithm=MLPClassifier,\n",
    "        args={'solver': 'sgd', 'activation':'logistic', 'alpha': 1e-5, 'hidden_layer_sizes': (6,4,2), 'random_state': 52}\n",
    "    ),\n",
    "    Test(\n",
    "        name='NN using stochastic gradient descent and logistic activation with large ∆',\n",
    "        X=X,\n",
    "        y=y,\n",
    "        algorithm=MLPClassifier,\n",
    "        args={'solver': 'sgd', 'activation':'logistic', 'alpha': 10, 'hidden_layer_sizes': (6,4,2), 'random_state': 1245}\n",
    "    ),\n",
    "    Test(\n",
    "        name='NN using stochastic gradient descent and relu activation with small ∆',\n",
    "        X=X,\n",
    "        y=y,\n",
    "        algorithm=MLPClassifier,\n",
    "        args={'solver': 'sgd', 'activation':'relu', 'alpha': 1e-8, 'hidden_layer_sizes': (5,2), 'random_state': 734}\n",
    "    ),\n",
    "    Test(\n",
    "        name='NN using stochastic gradient descent and relu activation with large ∆',\n",
    "        X=X,\n",
    "        y=y,\n",
    "        algorithm=MLPClassifier,\n",
    "        args={'solver': 'sgd', 'activation':'relu', 'alpha': 1, 'hidden_layer_sizes': (5,2), 'random_state': 734}\n",
    "    )\n",
    "]\n",
    "\n",
    "for test in nn_sgd_tests:\n",
    "    test.run()\n",
    "    test.display()\n",
    "    global_update_best(test.get_model())"
   ]
  },
  {
   "source": [
    "lambdas = [\n",
    "    1e-4,\n",
    "    1,\n",
    "    1e2,\n",
    "]\n",
    "structures = [\n",
    "    (4,3),\n",
    "    (9,6),\n",
    "    (9,6,3),\n",
    "    (10,6),\n",
    "    (10,8,6,4,2)\n",
    "]\n",
    "pairs = []\n",
    "for structure in structures:\n",
    "    for lmbda in lambdas:\n",
    "        pairs.append((structure, lmbda))\n",
    "\n",
    "nn_logistic_tests = [\n",
    "    Test(\n",
    "        name=f'NN with hidden layers of {structure} and with lmbda of {lmbda} and with activation of logistic function',\n",
    "        X=X,\n",
    "        y=y,\n",
    "        algorithm=MLPClassifier,\n",
    "        args={\n",
    "            'solver': 'lbfgs',\n",
    "            'alpha': lmbda,\n",
    "            'activation': 'logistic',\n",
    "            'hidden_layer_sizes': structure,\n",
    "            'random_state': 1\n",
    "        }\n",
    "    )\n",
    "    for (structure, lmbda) in pairs\n",
    "]\n",
    "\n",
    "for test in nn_logistic_tests:\n",
    "    test.run()\n",
    "    test.display()\n",
    "    global_update_best(test.get_model())"
   ],
   "cell_type": "code",
   "metadata": {},
   "execution_count": null,
   "outputs": []
  },
  {
   "cell_type": "code",
   "execution_count": null,
   "metadata": {},
   "outputs": [],
   "source": [
    "pairs = []\n",
    "lambdas = [\n",
    "    1e-4,\n",
    "    1,\n",
    "    1e2,\n",
    "]\n",
    "random_weights = [i*17 for i in range(1,7)]\n",
    "\n",
    "structure = (4,3) #best results in previous demo\n",
    "\n",
    "for rw in random_weights:\n",
    "    for lmbda in lambdas:\n",
    "        pairs.append((rw,lmbda))\n",
    "\n",
    "nn_relu_tests = [\n",
    "    Test(\n",
    "        name=f'NN with hidden layers = {structure}; lmbda = {lmbda}; random weight seed = {rw}; activation = relu',\n",
    "        X=X,\n",
    "        y=y,\n",
    "        algorithm=MLPClassifier,\n",
    "        args={\n",
    "            'solver': 'lbfgs',\n",
    "            'alpha': lmbda,\n",
    "            'activation': 'relu',\n",
    "            'hidden_layer_sizes': structure,\n",
    "            'random_state': rw\n",
    "        }\n",
    "    )\n",
    "    for (rw, lmbda) in pairs\n",
    "]\n",
    "\n",
    "for test in nn_relu_tests:\n",
    "    test.run()\n",
    "    test.display()\n",
    "    global_update_best(test.get_model())"
   ]
  },
  {
   "source": [
    "## Best Model"
   ],
   "cell_type": "markdown",
   "metadata": {}
  },
  {
   "cell_type": "code",
   "execution_count": null,
   "metadata": {},
   "outputs": [],
   "source": [
    "print(global_best_mode.coef_)"
   ]
  }
 ]
}