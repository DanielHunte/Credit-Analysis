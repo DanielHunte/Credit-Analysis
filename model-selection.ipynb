{
 "metadata": {
  "orig_nbformat": 2,
  "kernelspec": {
   "name": "python394jvsc74a57bd0daf19b0280700678d1b30283c052a0b4f397f6934ace6c653c7a54482fc82c11",
   "display_name": "Python 3.9.4 64-bit ('venv': venv)"
  },
  "metadata": {
   "interpreter": {
    "hash": "9518128f597d7b00dc14729602cfd87fb7b2cf75925976bcb0d0e328a830a12b"
   }
  }
 },
 "nbformat": 4,
 "nbformat_minor": 2,
 "cells": [
  {
   "source": [
    "# Imports"
   ],
   "cell_type": "markdown",
   "metadata": {}
  },
  {
   "cell_type": "code",
   "execution_count": 1,
   "metadata": {},
   "outputs": [],
   "source": [
    "import pandas as pd\n",
    "import numpy as np"
   ]
  },
  {
   "source": [
    "# Data Cleaning"
   ],
   "cell_type": "markdown",
   "metadata": {}
  },
  {
   "source": [
    "## Selecting Relevant Fields\n",
    "the dataset will be loaded and transformed and relevant dimensions will remain"
   ],
   "cell_type": "markdown",
   "metadata": {}
  },
  {
   "cell_type": "code",
   "execution_count": 2,
   "metadata": {},
   "outputs": [],
   "source": [
    "#TODO: remove the nrows argument when done testing\n",
    "df = pd.read_csv('database.csv', nrows=2500)[[\n",
    "    'NAME_CONTRACT_STATUS',\n",
    "    'CODE_GENDER',\n",
    "    'FLAG_OWN_CAR',\n",
    "    'FLAG_OWN_REALTY',\n",
    "    'CNT_CHILDREN',\n",
    "    'AMT_INCOME_TOTAL',\n",
    "    'AMT_CREDIT',\n",
    "    'NAME_INCOME_TYPE',\n",
    "    'NAME_EDUCATION_TYPE',\n",
    "    'NAME_FAMILY_STATUS',\n",
    "    'NAME_HOUSING_TYPE',\n",
    "    'DAYS_BIRTH',\n",
    "    'DAYS_EMPLOYED',\n",
    "    'OCCUPATION_TYPE',\n",
    "    'CNT_FAM_MEMBERS'\n",
    "]]"
   ]
  },
  {
   "source": [
    "## Reductions to binary variables\n",
    "\n",
    "The target variable, NAME_CONTRACT_STATUS, will be reduced from one of 4 possible values, to one of two generic but still correct values – for example, the dataset distingushes between cancelled and rejected and granted loans, however we will only distinguish between granted and not granted loans. Values that are binary but that don't use the binary alphabet will be transformed to use the binary alphabet as well.\n",
    "\n",
    "Defining a function that will return a copy of the dataframe with reduced fields."
   ],
   "cell_type": "markdown",
   "metadata": {}
  },
  {
   "cell_type": "code",
   "execution_count": 3,
   "metadata": {},
   "outputs": [],
   "source": [
    "def reduce(df, name, value):\n",
    "    if type(name) != str:\n",
    "        raise Exception('only one dimension is reduced at a time')\n",
    "    idx_name = df.columns.get_loc(name)\n",
    "    reduced = [(1 if df[name][i] == value else 0) for i in range(len(df))]\n",
    "    df_reduced = df.drop(labels=[name], axis=1)\n",
    "    df_reduced.insert(loc=idx_name, column=name, value=reduced)\n",
    "    return df_reduced"
   ]
  },
  {
   "cell_type": "code",
   "execution_count": 4,
   "metadata": {},
   "outputs": [],
   "source": [
    "df0 = reduce(df, 'NAME_CONTRACT_STATUS', 'Approved')  # 1 if approved else 0\n",
    "df1 = reduce(df0, 'CODE_GENDER', 'M')  # 1 if male else 0\n",
    "df2 = reduce(df1, 'FLAG_OWN_CAR', 'Y')  # 1 if owns car else 0\n",
    "df3 = reduce(df2, 'FLAG_OWN_REALTY', 'Y')  # 1 if owns property else 0"
   ]
  },
  {
   "source": [
    "## One-Hot Encoding\n",
    "defining a function that returns a copy of the input dataframe with a specific dimension one-hot encoded"
   ],
   "cell_type": "markdown",
   "metadata": {}
  },
  {
   "cell_type": "code",
   "execution_count": 5,
   "metadata": {
    "tags": []
   },
   "outputs": [],
   "source": [
    "def one_hot_encode(df, name):\n",
    "    if type(name) != str:\n",
    "        raise Exception('one hot encoding applies to one dimension at a time')\n",
    "    if len(df) == 0:\n",
    "        raise Exception('dataframe is empty')\n",
    "    \n",
    "    df = df.copy()\n",
    "    values = df[name].unique()\n",
    "    \n",
    "    #for each unique value, we create a new column where df[row][new column] is 1 if the value of df[row][value] == new column\n",
    "    for v in values:\n",
    "        one_hot_column = [(1 if df[name][i] == v else 0) for i in range(len(df))]\n",
    "        df.insert(loc=len(df.loc[0]), column=v, value=one_hot_column)\n",
    "\n",
    "    return df.drop(labels=[name], axis=1)"
   ]
  },
  {
   "source": [
    "performing one-hot encoding on any dimension whose values are one of a set of string values"
   ],
   "cell_type": "markdown",
   "metadata": {}
  },
  {
   "cell_type": "code",
   "execution_count": 6,
   "metadata": {},
   "outputs": [],
   "source": [
    "df4 = one_hot_encode(df3, 'NAME_INCOME_TYPE')\n",
    "df5 = one_hot_encode(df4, 'NAME_EDUCATION_TYPE')\n",
    "df6 = one_hot_encode(df5, 'NAME_FAMILY_STATUS')\n",
    "df7 = one_hot_encode(df6, 'NAME_HOUSING_TYPE')\n",
    "df8 = one_hot_encode(df7, 'OCCUPATION_TYPE')"
   ]
  },
  {
   "source": [
    "# Training the models"
   ],
   "cell_type": "markdown",
   "metadata": {}
  },
  {
   "source": [
    "## Split the dataframe into X and y as numpy arrays"
   ],
   "cell_type": "markdown",
   "metadata": {}
  },
  {
   "source": [
    "convert the dataframe into a numpy tensor"
   ],
   "cell_type": "markdown",
   "metadata": {}
  },
  {
   "cell_type": "code",
   "execution_count": 7,
   "metadata": {
    "tags": []
   },
   "outputs": [],
   "source": [
    "dataset_as_array = np.array(df8)\n",
    "X = dataset_as_array[:,1:]\n",
    "y = dataset_as_array[:,0].reshape((-1,1)).astype(np.int32)"
   ]
  },
  {
   "source": [
    "normalize the data"
   ],
   "cell_type": "markdown",
   "metadata": {}
  },
  {
   "cell_type": "code",
   "execution_count": 8,
   "metadata": {
    "tags": []
   },
   "outputs": [],
   "source": [
    "from sklearn import preprocessing\n",
    "X = preprocessing.StandardScaler().fit_transform(X)"
   ]
  },
  {
   "source": [
    "## Creating the test class\n",
    "We will create a class that collects everything we need to build and to analyze a model. The class will point to our data, and to a model building algorithm, and will provide functionality for presenting results."
   ],
   "cell_type": "markdown",
   "metadata": {}
  },
  {
   "cell_type": "code",
   "execution_count": 9,
   "metadata": {},
   "outputs": [],
   "source": [
    "from sklearn.model_selection import train_test_split\n",
    "\n",
    "class Test:\n",
    "    def __init__(self, name, X, y, algorithm, args):\n",
    "        self.name = name\n",
    "        self.X = X  #pointer, not copy\n",
    "        self.y = y\n",
    "        self.algorithm = algorithm\n",
    "        self.args = args\n",
    "    \n",
    "    def run(self, split=0.8):\n",
    "        X_train, X_test = train_test_split(self.X, train_size=split, test_size=(1.0-split))\n",
    "        y_train, y_test = train_test_split(self.y, train_size=split, test_size=(1.0-split))\n",
    "        model = self.algorithm(**self.args)\n",
    "        print(\"before\")\n",
    "        model.fit(X_train, y_train.ravel())\n",
    "        print(\"after\")\n",
    "        acc_train = model.score(X_train,y_train.ravel())\n",
    "        acc_test = model.score(X_test,y_test)\n",
    "        return acc_train, acc_test"
   ]
  },
  {
   "source": [
    "## Support Vector Machine Modelling\n",
    "The motivation behind support vector machines is that we are building a line of best fit between two datasets, where \"best\" is defined by an objective function of distance between our line of best fit and between critical points, called support vectors, of these datasets. Support vectors are the closest points to a line of best fit. Our best fit line is also a decision boundary."
   ],
   "cell_type": "markdown",
   "metadata": {}
  },
  {
   "cell_type": "code",
   "execution_count": 10,
   "metadata": {},
   "outputs": [],
   "source": [
    "from sklearn import svm"
   ]
  },
  {
   "source": [
    "### Tests comparing the three kernels"
   ],
   "cell_type": "markdown",
   "metadata": {}
  },
  {
   "cell_type": "code",
   "execution_count": 11,
   "metadata": {},
   "outputs": [],
   "source": [
    "svm_basic_tests = [\n",
    "    Test(\n",
    "        name='SVM linear',\n",
    "        X=X,\n",
    "        y=y,\n",
    "        algorithm=svm.SVC,\n",
    "        args={'probability': False, 'kernel': 'linear', 'C': 100}\n",
    "    )\n",
    "]"
   ]
  },
  {
   "cell_type": "code",
   "execution_count": 17,
   "metadata": {},
   "outputs": [
    {
     "output_type": "error",
     "ename": "NameError",
     "evalue": "name 'svm_basic_tests' is not defined",
     "traceback": [
      "\u001b[1;31m---------------------------------------------------------------------------\u001b[0m",
      "\u001b[1;31mNameError\u001b[0m                                 Traceback (most recent call last)",
      "\u001b[1;32m<ipython-input-17-e5c9d6b683d5>\u001b[0m in \u001b[0;36m<module>\u001b[1;34m\u001b[0m\n\u001b[1;32m----> 1\u001b[1;33m \u001b[1;32mfor\u001b[0m \u001b[0mtest\u001b[0m \u001b[1;32min\u001b[0m \u001b[0msvm_basic_tests\u001b[0m\u001b[1;33m:\u001b[0m\u001b[1;33m\u001b[0m\u001b[1;33m\u001b[0m\u001b[0m\n\u001b[0m\u001b[0;32m      2\u001b[0m     \u001b[0mprint\u001b[0m\u001b[1;33m(\u001b[0m\u001b[1;34mf'\\n\\n{test.name}\\n'\u001b[0m \u001b[1;33m+\u001b[0m \u001b[1;34m'='\u001b[0m\u001b[1;33m*\u001b[0m\u001b[0mlen\u001b[0m\u001b[1;33m(\u001b[0m\u001b[0mtest\u001b[0m\u001b[1;33m.\u001b[0m\u001b[0mname\u001b[0m\u001b[1;33m)\u001b[0m\u001b[1;33m)\u001b[0m\u001b[1;33m\u001b[0m\u001b[1;33m\u001b[0m\u001b[0m\n\u001b[0;32m      3\u001b[0m     \u001b[0macc_train\u001b[0m\u001b[1;33m,\u001b[0m \u001b[0macc_test\u001b[0m \u001b[1;33m=\u001b[0m \u001b[0mtest\u001b[0m\u001b[1;33m.\u001b[0m\u001b[0mrun\u001b[0m\u001b[1;33m(\u001b[0m\u001b[1;33m)\u001b[0m\u001b[1;33m\u001b[0m\u001b[1;33m\u001b[0m\u001b[0m\n\u001b[0;32m      4\u001b[0m     \u001b[0mprint\u001b[0m\u001b[1;33m(\u001b[0m\u001b[1;34mf'Training accuracy: {acc_train}'\u001b[0m\u001b[1;33m)\u001b[0m\u001b[1;33m\u001b[0m\u001b[1;33m\u001b[0m\u001b[0m\n\u001b[0;32m      5\u001b[0m     \u001b[0mprint\u001b[0m\u001b[1;33m(\u001b[0m\u001b[1;34mf'Test accuracy: {acc_test}'\u001b[0m\u001b[1;33m)\u001b[0m\u001b[1;33m\u001b[0m\u001b[1;33m\u001b[0m\u001b[0m\n",
      "\u001b[1;31mNameError\u001b[0m: name 'svm_basic_tests' is not defined"
     ]
    }
   ],
   "source": [
    "for test in svm_basic_tests:\n",
    "    print(f'\\n\\n{test.name}\\n' + '='*len(test.name))\n",
    "    acc_train, acc_test = test.run()\n",
    "    print(f'Training accuracy: {acc_train}')\n",
    "    print(f'Test accuracy: {acc_test}')"
   ]
  },
  {
   "source": [
    "### Tests comparing different degrees of the polynomial kernel"
   ],
   "cell_type": "markdown",
   "metadata": {}
  },
  {
   "cell_type": "code",
   "execution_count": 13,
   "metadata": {},
   "outputs": [],
   "source": [
    "svm_poly_tests = [\n",
    "    Test(\n",
    "        name=f'SVM poly of degree {i}',\n",
    "        X=X,\n",
    "        y=y,\n",
    "        algorithm=svm.SVC,\n",
    "        args={'probability': False, 'kernel': 'poly', 'C': 0.001, 'degree': i}\n",
    "    )\n",
    "    for i in range(1,11)\n",
    "]"
   ]
  },
  {
   "cell_type": "code",
   "execution_count": 14,
   "metadata": {},
   "outputs": [
    {
     "output_type": "stream",
     "name": "stdout",
     "text": [
      "\n",
      "\n",
      "SVM poly of degree 1\n",
      "====================\n",
      "Training accuracy: 0.643\n",
      "Test accuracy: 0.652\n",
      "\n",
      "\n",
      "SVM poly of degree 2\n",
      "====================\n",
      "Training accuracy: 0.6415\n",
      "Test accuracy: 0.658\n",
      "\n",
      "\n",
      "SVM poly of degree 3\n",
      "====================\n",
      "Training accuracy: 0.632\n",
      "Test accuracy: 0.696\n",
      "\n",
      "\n",
      "SVM poly of degree 4\n",
      "====================\n",
      "Training accuracy: 0.643\n",
      "Test accuracy: 0.652\n",
      "\n",
      "\n",
      "SVM poly of degree 5\n",
      "====================\n",
      "Training accuracy: 0.6445\n",
      "Test accuracy: 0.646\n",
      "\n",
      "\n",
      "SVM poly of degree 6\n",
      "====================\n",
      "Training accuracy: 0.6525\n",
      "Test accuracy: 0.614\n",
      "\n",
      "\n",
      "SVM poly of degree 7\n",
      "====================\n",
      "Training accuracy: 0.643\n",
      "Test accuracy: 0.652\n",
      "\n",
      "\n",
      "SVM poly of degree 8\n",
      "====================\n",
      "Training accuracy: 0.6475\n",
      "Test accuracy: 0.634\n",
      "\n",
      "\n",
      "SVM poly of degree 9\n",
      "====================\n",
      "Training accuracy: 0.649\n",
      "Test accuracy: 0.628\n",
      "\n",
      "\n",
      "SVM poly of degree 10\n",
      "=====================\n",
      "Training accuracy: 0.644\n",
      "Test accuracy: 0.648\n"
     ]
    }
   ],
   "source": [
    "for test in svm_poly_tests:\n",
    "    print(f'\\n\\n{test.name}\\n' + '='*len(test.name))\n",
    "    acc_train, acc_test = test.run()\n",
    "    print(f'Training accuracy: {acc_train}')\n",
    "    print(f'Test accuracy: {acc_test}')"
   ]
  },
  {
   "source": [
    "### Linear Regression Modelling"
   ],
   "cell_type": "markdown",
   "metadata": {}
  },
  {
   "cell_type": "code",
   "execution_count": 16,
   "metadata": {},
   "outputs": [],
   "source": [
    "from sklearn import linear_model"
   ]
  },
  {
   "cell_type": "code",
   "execution_count": 25,
   "metadata": {},
   "outputs": [
    {
     "output_type": "stream",
     "name": "stdout",
     "text": [
      "\n",
      "\n",
      "Logreg l1 penalty with C=0.0001\n",
      "===============================\n",
      "Training accuracy: 0.6535\n",
      "Test accuracy: 0.61\n",
      "\n",
      "\n",
      "Logreg l1 penalty with C=0.001\n",
      "==============================\n",
      "Training accuracy: 0.6515\n",
      "Test accuracy: 0.618\n",
      "\n",
      "\n",
      "Logreg l1 penalty with C=0.01\n",
      "=============================\n",
      "Training accuracy: 0.635\n",
      "Test accuracy: 0.684\n",
      "\n",
      "\n",
      "Logreg l1 penalty with C=0.1\n",
      "============================\n",
      "Training accuracy: 0.65\n",
      "Test accuracy: 0.624\n",
      "\n",
      "\n",
      "Logreg l1 penalty with C=1\n",
      "==========================\n",
      "Training accuracy: 0.6475\n",
      "Test accuracy: 0.634\n",
      "\n",
      "\n",
      "Logreg l1 penalty with C=10\n",
      "===========================\n",
      "Training accuracy: 0.6435\n",
      "Test accuracy: 0.65\n",
      "\n",
      "\n",
      "Logreg l1 penalty with C=100\n",
      "============================\n",
      "Training accuracy: 0.652\n",
      "Test accuracy: 0.616\n",
      "\n",
      "\n",
      "Logreg l1 penalty with C=1000\n",
      "=============================\n",
      "Training accuracy: 0.6485\n",
      "Test accuracy: 0.63\n"
     ]
    }
   ],
   "source": [
    "logreg_l1_tests = [\n",
    "    Test(\n",
    "        name=f'Logreg l1 penalty with C={i}',\n",
    "        X=X,\n",
    "        y=y,\n",
    "        algorithm=linear_model.LogisticRegression,\n",
    "        args={'penalty':'l1', 'solver':'saga', 'C':i}\n",
    "    )\n",
    "    for i in [0.0001, 0.001, 0.01, 0.1, 1, 10, 100, 1000]\n",
    "]\n",
    "\n",
    "for test in logreg_l1_tests:\n",
    "    print(f'\\n\\n{test.name}\\n' + '='*len(test.name))\n",
    "    acc_train, acc_test = test.run()\n",
    "    print(f'Training accuracy: {acc_train}')\n",
    "    print(f'Test accuracy: {acc_test}')"
   ]
  },
  {
   "cell_type": "code",
   "execution_count": 26,
   "metadata": {},
   "outputs": [
    {
     "output_type": "stream",
     "name": "stdout",
     "text": [
      "\n",
      "\n",
      "Logreg l2 penalty with C=0.0001\n",
      "===============================\n",
      "Training accuracy: 0.641\n",
      "Test accuracy: 0.66\n",
      "\n",
      "\n",
      "Logreg l2 penalty with C=0.001\n",
      "==============================\n",
      "Training accuracy: 0.6455\n",
      "Test accuracy: 0.642\n",
      "\n",
      "\n",
      "Logreg l2 penalty with C=0.01\n",
      "=============================\n",
      "Training accuracy: 0.6495\n",
      "Test accuracy: 0.626\n",
      "\n",
      "\n",
      "Logreg l2 penalty with C=0.1\n",
      "============================\n",
      "Training accuracy: 0.641\n",
      "Test accuracy: 0.66\n",
      "\n",
      "\n",
      "Logreg l2 penalty with C=1\n",
      "==========================\n",
      "Training accuracy: 0.6465\n",
      "Test accuracy: 0.638\n",
      "\n",
      "\n",
      "Logreg l2 penalty with C=10\n",
      "===========================\n",
      "Training accuracy: 0.6545\n",
      "Test accuracy: 0.606\n",
      "\n",
      "\n",
      "Logreg l2 penalty with C=100\n",
      "============================\n",
      "Training accuracy: 0.6465\n",
      "Test accuracy: 0.638\n",
      "\n",
      "\n",
      "Logreg l2 penalty with C=1000\n",
      "=============================\n",
      "Training accuracy: 0.6505\n",
      "Test accuracy: 0.622\n"
     ]
    }
   ],
   "source": [
    "logreg_l2_tests = [\n",
    "    Test(\n",
    "        name=f'Logreg l2 penalty with C={i}',\n",
    "        X=X,\n",
    "        y=y,\n",
    "        algorithm=linear_model.LogisticRegression,\n",
    "        args={'penalty':'l1', 'solver':'saga', 'C':i}\n",
    "    )\n",
    "    for i in [0.0001, 0.001, 0.01, 0.1, 1, 10, 100, 1000]\n",
    "]\n",
    "\n",
    "for test in logreg_l2_tests:\n",
    "    print(f'\\n\\n{test.name}\\n' + '='*len(test.name))\n",
    "    acc_train, acc_test = test.run()\n",
    "    print(f'Training accuracy: {acc_train}')\n",
    "    print(f'Test accuracy: {acc_test}')"
   ]
  },
  {
   "cell_type": "code",
   "execution_count": null,
   "metadata": {},
   "outputs": [],
   "source": []
  }
 ]
}