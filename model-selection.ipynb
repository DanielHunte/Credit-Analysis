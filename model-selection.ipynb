{
 "metadata": {
  "orig_nbformat": 2,
  "kernelspec": {
   "name": "python391jvsc74a57bd09518128f597d7b00dc14729602cfd87fb7b2cf75925976bcb0d0e328a830a12b",
   "display_name": "Python 3.9.1 64-bit"
  },
  "metadata": {
   "interpreter": {
    "hash": "9518128f597d7b00dc14729602cfd87fb7b2cf75925976bcb0d0e328a830a12b"
   }
  }
 },
 "nbformat": 4,
 "nbformat_minor": 2,
 "cells": [
  {
   "source": [
    "# Imports"
   ],
   "cell_type": "markdown",
   "metadata": {}
  },
  {
   "cell_type": "code",
   "execution_count": 19,
   "metadata": {},
   "outputs": [],
   "source": [
    "import pandas as pd\n",
    "import numpy as np"
   ]
  },
  {
   "source": [
    "# Data Cleaning"
   ],
   "cell_type": "markdown",
   "metadata": {}
  },
  {
   "source": [
    "## Selecting Relevant Fields\n",
    "the dataset will be loaded and transformed and relevant dimensions will remain"
   ],
   "cell_type": "markdown",
   "metadata": {}
  },
  {
   "cell_type": "code",
   "execution_count": 20,
   "metadata": {},
   "outputs": [
    {
     "output_type": "execute_result",
     "data": {
      "text/plain": [
       "  NAME_CONTRACT_STATUS CODE_GENDER FLAG_OWN_CAR FLAG_OWN_REALTY  CNT_CHILDREN  \\\n",
       "0             Approved           F            N               Y             0   \n",
       "1             Approved           F            Y               Y             1   \n",
       "2             Approved           F            N               Y             0   \n",
       "3             Approved           M            N               N             0   \n",
       "4              Refused           M            Y               N             0   \n",
       "\n",
       "   AMT_INCOME_TOTAL  AMT_CREDIT NAME_INCOME_TYPE  \\\n",
       "0          171000.0    491580.0    State servant   \n",
       "1          175500.0     29700.0    State servant   \n",
       "2          135000.0     48600.0          Working   \n",
       "3          180000.0    196740.0          Working   \n",
       "4          225000.0    774229.5        Pensioner   \n",
       "\n",
       "             NAME_EDUCATION_TYPE NAME_FAMILY_STATUS  NAME_HOUSING_TYPE  \\\n",
       "0  Secondary / secondary special            Married  House / apartment   \n",
       "1               Higher education            Married  House / apartment   \n",
       "2  Secondary / secondary special            Married  House / apartment   \n",
       "3  Secondary / secondary special            Married   Rented apartment   \n",
       "4  Secondary / secondary special            Married  House / apartment   \n",
       "\n",
       "   DAYS_BIRTH  DAYS_EMPLOYED        OCCUPATION_TYPE  CNT_FAM_MEMBERS  \n",
       "0      -14548          -1187         Medicine staff              2.0  \n",
       "1      -11081          -3244  High skill tech staff              3.0  \n",
       "2      -12939           -629            Sales staff              2.0  \n",
       "3       -8945           -672            Sales staff              2.0  \n",
       "4      -23919         365243                    NaN              2.0  "
      ],
      "text/html": "<div>\n<style scoped>\n    .dataframe tbody tr th:only-of-type {\n        vertical-align: middle;\n    }\n\n    .dataframe tbody tr th {\n        vertical-align: top;\n    }\n\n    .dataframe thead th {\n        text-align: right;\n    }\n</style>\n<table border=\"1\" class=\"dataframe\">\n  <thead>\n    <tr style=\"text-align: right;\">\n      <th></th>\n      <th>NAME_CONTRACT_STATUS</th>\n      <th>CODE_GENDER</th>\n      <th>FLAG_OWN_CAR</th>\n      <th>FLAG_OWN_REALTY</th>\n      <th>CNT_CHILDREN</th>\n      <th>AMT_INCOME_TOTAL</th>\n      <th>AMT_CREDIT</th>\n      <th>NAME_INCOME_TYPE</th>\n      <th>NAME_EDUCATION_TYPE</th>\n      <th>NAME_FAMILY_STATUS</th>\n      <th>NAME_HOUSING_TYPE</th>\n      <th>DAYS_BIRTH</th>\n      <th>DAYS_EMPLOYED</th>\n      <th>OCCUPATION_TYPE</th>\n      <th>CNT_FAM_MEMBERS</th>\n    </tr>\n  </thead>\n  <tbody>\n    <tr>\n      <th>0</th>\n      <td>Approved</td>\n      <td>F</td>\n      <td>N</td>\n      <td>Y</td>\n      <td>0</td>\n      <td>171000.0</td>\n      <td>491580.0</td>\n      <td>State servant</td>\n      <td>Secondary / secondary special</td>\n      <td>Married</td>\n      <td>House / apartment</td>\n      <td>-14548</td>\n      <td>-1187</td>\n      <td>Medicine staff</td>\n      <td>2.0</td>\n    </tr>\n    <tr>\n      <th>1</th>\n      <td>Approved</td>\n      <td>F</td>\n      <td>Y</td>\n      <td>Y</td>\n      <td>1</td>\n      <td>175500.0</td>\n      <td>29700.0</td>\n      <td>State servant</td>\n      <td>Higher education</td>\n      <td>Married</td>\n      <td>House / apartment</td>\n      <td>-11081</td>\n      <td>-3244</td>\n      <td>High skill tech staff</td>\n      <td>3.0</td>\n    </tr>\n    <tr>\n      <th>2</th>\n      <td>Approved</td>\n      <td>F</td>\n      <td>N</td>\n      <td>Y</td>\n      <td>0</td>\n      <td>135000.0</td>\n      <td>48600.0</td>\n      <td>Working</td>\n      <td>Secondary / secondary special</td>\n      <td>Married</td>\n      <td>House / apartment</td>\n      <td>-12939</td>\n      <td>-629</td>\n      <td>Sales staff</td>\n      <td>2.0</td>\n    </tr>\n    <tr>\n      <th>3</th>\n      <td>Approved</td>\n      <td>M</td>\n      <td>N</td>\n      <td>N</td>\n      <td>0</td>\n      <td>180000.0</td>\n      <td>196740.0</td>\n      <td>Working</td>\n      <td>Secondary / secondary special</td>\n      <td>Married</td>\n      <td>Rented apartment</td>\n      <td>-8945</td>\n      <td>-672</td>\n      <td>Sales staff</td>\n      <td>2.0</td>\n    </tr>\n    <tr>\n      <th>4</th>\n      <td>Refused</td>\n      <td>M</td>\n      <td>Y</td>\n      <td>N</td>\n      <td>0</td>\n      <td>225000.0</td>\n      <td>774229.5</td>\n      <td>Pensioner</td>\n      <td>Secondary / secondary special</td>\n      <td>Married</td>\n      <td>House / apartment</td>\n      <td>-23919</td>\n      <td>365243</td>\n      <td>NaN</td>\n      <td>2.0</td>\n    </tr>\n  </tbody>\n</table>\n</div>"
     },
     "metadata": {},
     "execution_count": 20
    }
   ],
   "source": [
    "#TODO: remove the nrows argument when done testing\n",
    "df = pd.read_csv('database.csv', nrows=2500)[[\n",
    "    'NAME_CONTRACT_STATUS',\n",
    "    'CODE_GENDER',\n",
    "    'FLAG_OWN_CAR',\n",
    "    'FLAG_OWN_REALTY',\n",
    "    'CNT_CHILDREN',\n",
    "    'AMT_INCOME_TOTAL',\n",
    "    'AMT_CREDIT',\n",
    "    'NAME_INCOME_TYPE',\n",
    "    'NAME_EDUCATION_TYPE',\n",
    "    'NAME_FAMILY_STATUS',\n",
    "    'NAME_HOUSING_TYPE',\n",
    "    'DAYS_BIRTH',\n",
    "    'DAYS_EMPLOYED',\n",
    "    'OCCUPATION_TYPE',\n",
    "    'CNT_FAM_MEMBERS'\n",
    "]]\n",
    "df.head()"
   ]
  },
  {
   "source": [
    "## Reductions to binary variables\n",
    "\n",
    "The target variable, NAME_CONTRACT_STATUS, will be reduced from one of 4 possible values, to one of two generic but still correct values – for example, the dataset distingushes between cancelled and rejected and granted loans, however we will only distinguish between granted and not granted loans. Values that are binary but that don't use the binary alphabet will be transformed to use the binary alphabet as well.\n",
    "\n",
    "Defining a function that will return a copy of the dataframe with reduced fields."
   ],
   "cell_type": "markdown",
   "metadata": {}
  },
  {
   "cell_type": "code",
   "execution_count": 21,
   "metadata": {},
   "outputs": [],
   "source": [
    "def reduce(df, name, value):\n",
    "    if type(name) != str:\n",
    "        raise Exception('only one dimension is reduced at a time')\n",
    "    idx_name = df.columns.get_loc(name)\n",
    "    reduced = [(1 if df[name][i] == value else 0) for i in range(len(df))]\n",
    "    df_reduced = df.drop(labels=[name], axis=1)\n",
    "    df_reduced.insert(loc=idx_name, column=name, value=reduced)\n",
    "    return df_reduced"
   ]
  },
  {
   "cell_type": "code",
   "execution_count": 22,
   "metadata": {},
   "outputs": [],
   "source": [
    "df0 = reduce(df, 'NAME_CONTRACT_STATUS', 'Approved')  # 1 if approved else 0\n",
    "df1 = reduce(df0, 'CODE_GENDER', 'M')  # 1 if male else 0\n",
    "df2 = reduce(df1, 'FLAG_OWN_CAR', 'Y')  # 1 if owns car else 0\n",
    "df3 = reduce(df2, 'FLAG_OWN_REALTY', 'Y')  # 1 if owns property else 0"
   ]
  },
  {
   "source": [
    "## One-Hot Encoding\n",
    "defining a function that returns a copy of the input dataframe with a specific dimension one-hot encoded"
   ],
   "cell_type": "markdown",
   "metadata": {}
  },
  {
   "cell_type": "code",
   "execution_count": 23,
   "metadata": {
    "tags": []
   },
   "outputs": [],
   "source": [
    "def one_hot_encode(df, name):\n",
    "    if type(name) != str:\n",
    "        raise Exception('one hot encoding applies to one dimension at a time')\n",
    "    if len(df) == 0:\n",
    "        raise Exception('dataframe is empty')\n",
    "    \n",
    "    df = df.copy()\n",
    "    values = df[name].unique()\n",
    "    \n",
    "    #for each unique value, we create a new column where df[row][new column] is 1 if the value of df[row][value] == new column\n",
    "    for v in values:\n",
    "        one_hot_column = [(1 if df[name][i] == v else 0) for i in range(len(df))]\n",
    "        df.insert(loc=len(df.loc[0]), column=v, value=one_hot_column)\n",
    "\n",
    "    return df.drop(labels=[name], axis=1)"
   ]
  },
  {
   "source": [
    "performing one-hot encoding on any dimension whose values are one of a set of string values"
   ],
   "cell_type": "markdown",
   "metadata": {}
  },
  {
   "cell_type": "code",
   "execution_count": 24,
   "metadata": {},
   "outputs": [
    {
     "output_type": "execute_result",
     "data": {
      "text/plain": [
       "    NAME_CONTRACT_STATUS  CODE_GENDER  FLAG_OWN_CAR  FLAG_OWN_REALTY  \\\n",
       "0                      1            0             0                1   \n",
       "1                      1            0             1                1   \n",
       "2                      1            0             0                1   \n",
       "3                      1            1             0                0   \n",
       "4                      0            1             1                0   \n",
       "5                      0            1             1                0   \n",
       "6                      1            0             0                1   \n",
       "7                      1            1             0                0   \n",
       "8                      0            1             1                0   \n",
       "9                      1            0             0                0   \n",
       "10                     1            1             0                1   \n",
       "11                     1            0             0                1   \n",
       "12                     1            1             0                1   \n",
       "13                     1            1             1                0   \n",
       "14                     0            1             0                1   \n",
       "15                     0            1             1                1   \n",
       "16                     0            0             0                1   \n",
       "17                     0            1             0                1   \n",
       "18                     0            1             1                1   \n",
       "19                     1            0             0                1   \n",
       "\n",
       "    CNT_CHILDREN  AMT_INCOME_TOTAL  AMT_CREDIT  DAYS_BIRTH  DAYS_EMPLOYED  \\\n",
       "0              0          171000.0    491580.0      -14548          -1187   \n",
       "1              1          175500.0     29700.0      -11081          -3244   \n",
       "2              0          135000.0     48600.0      -12939           -629   \n",
       "3              0          180000.0    196740.0       -8945           -672   \n",
       "4              0          225000.0    774229.5      -23919         365243   \n",
       "5              1          225000.0     36166.5      -15173          -3397   \n",
       "6              1           90000.0    120582.0      -18834         365243   \n",
       "7              0          135000.0     30550.5       -9950           -146   \n",
       "8              1          180000.0         0.0      -12686          -4410   \n",
       "9              0           54000.0    112500.0      -23154         365243   \n",
       "10             0          315000.0     26811.0      -17154          -4006   \n",
       "11             0          112500.0    135000.0      -19534           -771   \n",
       "12             0          135000.0     63414.0      -20781          -7989   \n",
       "13             0           90000.0     47110.5      -11244          -1772   \n",
       "14             0          112500.0     73935.0      -19004          -4935   \n",
       "15             0          121500.0         0.0      -18494          -5551   \n",
       "16             0          225000.0         0.0      -19094          -5915   \n",
       "17             0          202500.0         0.0      -11027          -1801   \n",
       "18             0          292500.0         0.0      -16625          -8136   \n",
       "19             0          247500.0    284400.0      -24019         365243   \n",
       "\n",
       "    CNT_FAM_MEMBERS  ...  Accountants  Cleaning staff  Secretaries  \\\n",
       "0               2.0  ...            0               0            0   \n",
       "1               3.0  ...            0               0            0   \n",
       "2               2.0  ...            0               0            0   \n",
       "3               2.0  ...            0               0            0   \n",
       "4               2.0  ...            0               0            0   \n",
       "5               3.0  ...            0               0            0   \n",
       "6               3.0  ...            0               0            0   \n",
       "7               2.0  ...            0               0            0   \n",
       "8               3.0  ...            0               0            0   \n",
       "9               1.0  ...            0               0            0   \n",
       "10              2.0  ...            0               0            0   \n",
       "11              2.0  ...            0               0            0   \n",
       "12              2.0  ...            0               0            0   \n",
       "13              1.0  ...            0               0            0   \n",
       "14              2.0  ...            0               0            0   \n",
       "15              1.0  ...            0               0            0   \n",
       "16              1.0  ...            0               0            0   \n",
       "17              1.0  ...            0               0            0   \n",
       "18              2.0  ...            0               0            0   \n",
       "19              2.0  ...            0               0            0   \n",
       "\n",
       "    Private service staff  Waiters/barmen staff  Low-skill Laborers  \\\n",
       "0                       0                     0                   0   \n",
       "1                       0                     0                   0   \n",
       "2                       0                     0                   0   \n",
       "3                       0                     0                   0   \n",
       "4                       0                     0                   0   \n",
       "5                       0                     0                   0   \n",
       "6                       0                     0                   0   \n",
       "7                       0                     0                   0   \n",
       "8                       0                     0                   0   \n",
       "9                       0                     0                   0   \n",
       "10                      0                     0                   0   \n",
       "11                      0                     0                   0   \n",
       "12                      0                     0                   0   \n",
       "13                      0                     0                   0   \n",
       "14                      0                     0                   0   \n",
       "15                      0                     0                   0   \n",
       "16                      0                     0                   0   \n",
       "17                      0                     0                   0   \n",
       "18                      0                     0                   0   \n",
       "19                      0                     0                   0   \n",
       "\n",
       "    Security staff  HR staff  Realty agents  IT staff  \n",
       "0                0         0              0         0  \n",
       "1                0         0              0         0  \n",
       "2                0         0              0         0  \n",
       "3                0         0              0         0  \n",
       "4                0         0              0         0  \n",
       "5                0         0              0         0  \n",
       "6                0         0              0         0  \n",
       "7                0         0              0         0  \n",
       "8                0         0              0         0  \n",
       "9                0         0              0         0  \n",
       "10               0         0              0         0  \n",
       "11               0         0              0         0  \n",
       "12               0         0              0         0  \n",
       "13               0         0              0         0  \n",
       "14               0         0              0         0  \n",
       "15               0         0              0         0  \n",
       "16               0         0              0         0  \n",
       "17               0         0              0         0  \n",
       "18               0         0              0         0  \n",
       "19               0         0              0         0  \n",
       "\n",
       "[20 rows x 48 columns]"
      ],
      "text/html": "<div>\n<style scoped>\n    .dataframe tbody tr th:only-of-type {\n        vertical-align: middle;\n    }\n\n    .dataframe tbody tr th {\n        vertical-align: top;\n    }\n\n    .dataframe thead th {\n        text-align: right;\n    }\n</style>\n<table border=\"1\" class=\"dataframe\">\n  <thead>\n    <tr style=\"text-align: right;\">\n      <th></th>\n      <th>NAME_CONTRACT_STATUS</th>\n      <th>CODE_GENDER</th>\n      <th>FLAG_OWN_CAR</th>\n      <th>FLAG_OWN_REALTY</th>\n      <th>CNT_CHILDREN</th>\n      <th>AMT_INCOME_TOTAL</th>\n      <th>AMT_CREDIT</th>\n      <th>DAYS_BIRTH</th>\n      <th>DAYS_EMPLOYED</th>\n      <th>CNT_FAM_MEMBERS</th>\n      <th>...</th>\n      <th>Accountants</th>\n      <th>Cleaning staff</th>\n      <th>Secretaries</th>\n      <th>Private service staff</th>\n      <th>Waiters/barmen staff</th>\n      <th>Low-skill Laborers</th>\n      <th>Security staff</th>\n      <th>HR staff</th>\n      <th>Realty agents</th>\n      <th>IT staff</th>\n    </tr>\n  </thead>\n  <tbody>\n    <tr>\n      <th>0</th>\n      <td>1</td>\n      <td>0</td>\n      <td>0</td>\n      <td>1</td>\n      <td>0</td>\n      <td>171000.0</td>\n      <td>491580.0</td>\n      <td>-14548</td>\n      <td>-1187</td>\n      <td>2.0</td>\n      <td>...</td>\n      <td>0</td>\n      <td>0</td>\n      <td>0</td>\n      <td>0</td>\n      <td>0</td>\n      <td>0</td>\n      <td>0</td>\n      <td>0</td>\n      <td>0</td>\n      <td>0</td>\n    </tr>\n    <tr>\n      <th>1</th>\n      <td>1</td>\n      <td>0</td>\n      <td>1</td>\n      <td>1</td>\n      <td>1</td>\n      <td>175500.0</td>\n      <td>29700.0</td>\n      <td>-11081</td>\n      <td>-3244</td>\n      <td>3.0</td>\n      <td>...</td>\n      <td>0</td>\n      <td>0</td>\n      <td>0</td>\n      <td>0</td>\n      <td>0</td>\n      <td>0</td>\n      <td>0</td>\n      <td>0</td>\n      <td>0</td>\n      <td>0</td>\n    </tr>\n    <tr>\n      <th>2</th>\n      <td>1</td>\n      <td>0</td>\n      <td>0</td>\n      <td>1</td>\n      <td>0</td>\n      <td>135000.0</td>\n      <td>48600.0</td>\n      <td>-12939</td>\n      <td>-629</td>\n      <td>2.0</td>\n      <td>...</td>\n      <td>0</td>\n      <td>0</td>\n      <td>0</td>\n      <td>0</td>\n      <td>0</td>\n      <td>0</td>\n      <td>0</td>\n      <td>0</td>\n      <td>0</td>\n      <td>0</td>\n    </tr>\n    <tr>\n      <th>3</th>\n      <td>1</td>\n      <td>1</td>\n      <td>0</td>\n      <td>0</td>\n      <td>0</td>\n      <td>180000.0</td>\n      <td>196740.0</td>\n      <td>-8945</td>\n      <td>-672</td>\n      <td>2.0</td>\n      <td>...</td>\n      <td>0</td>\n      <td>0</td>\n      <td>0</td>\n      <td>0</td>\n      <td>0</td>\n      <td>0</td>\n      <td>0</td>\n      <td>0</td>\n      <td>0</td>\n      <td>0</td>\n    </tr>\n    <tr>\n      <th>4</th>\n      <td>0</td>\n      <td>1</td>\n      <td>1</td>\n      <td>0</td>\n      <td>0</td>\n      <td>225000.0</td>\n      <td>774229.5</td>\n      <td>-23919</td>\n      <td>365243</td>\n      <td>2.0</td>\n      <td>...</td>\n      <td>0</td>\n      <td>0</td>\n      <td>0</td>\n      <td>0</td>\n      <td>0</td>\n      <td>0</td>\n      <td>0</td>\n      <td>0</td>\n      <td>0</td>\n      <td>0</td>\n    </tr>\n    <tr>\n      <th>5</th>\n      <td>0</td>\n      <td>1</td>\n      <td>1</td>\n      <td>0</td>\n      <td>1</td>\n      <td>225000.0</td>\n      <td>36166.5</td>\n      <td>-15173</td>\n      <td>-3397</td>\n      <td>3.0</td>\n      <td>...</td>\n      <td>0</td>\n      <td>0</td>\n      <td>0</td>\n      <td>0</td>\n      <td>0</td>\n      <td>0</td>\n      <td>0</td>\n      <td>0</td>\n      <td>0</td>\n      <td>0</td>\n    </tr>\n    <tr>\n      <th>6</th>\n      <td>1</td>\n      <td>0</td>\n      <td>0</td>\n      <td>1</td>\n      <td>1</td>\n      <td>90000.0</td>\n      <td>120582.0</td>\n      <td>-18834</td>\n      <td>365243</td>\n      <td>3.0</td>\n      <td>...</td>\n      <td>0</td>\n      <td>0</td>\n      <td>0</td>\n      <td>0</td>\n      <td>0</td>\n      <td>0</td>\n      <td>0</td>\n      <td>0</td>\n      <td>0</td>\n      <td>0</td>\n    </tr>\n    <tr>\n      <th>7</th>\n      <td>1</td>\n      <td>1</td>\n      <td>0</td>\n      <td>0</td>\n      <td>0</td>\n      <td>135000.0</td>\n      <td>30550.5</td>\n      <td>-9950</td>\n      <td>-146</td>\n      <td>2.0</td>\n      <td>...</td>\n      <td>0</td>\n      <td>0</td>\n      <td>0</td>\n      <td>0</td>\n      <td>0</td>\n      <td>0</td>\n      <td>0</td>\n      <td>0</td>\n      <td>0</td>\n      <td>0</td>\n    </tr>\n    <tr>\n      <th>8</th>\n      <td>0</td>\n      <td>1</td>\n      <td>1</td>\n      <td>0</td>\n      <td>1</td>\n      <td>180000.0</td>\n      <td>0.0</td>\n      <td>-12686</td>\n      <td>-4410</td>\n      <td>3.0</td>\n      <td>...</td>\n      <td>0</td>\n      <td>0</td>\n      <td>0</td>\n      <td>0</td>\n      <td>0</td>\n      <td>0</td>\n      <td>0</td>\n      <td>0</td>\n      <td>0</td>\n      <td>0</td>\n    </tr>\n    <tr>\n      <th>9</th>\n      <td>1</td>\n      <td>0</td>\n      <td>0</td>\n      <td>0</td>\n      <td>0</td>\n      <td>54000.0</td>\n      <td>112500.0</td>\n      <td>-23154</td>\n      <td>365243</td>\n      <td>1.0</td>\n      <td>...</td>\n      <td>0</td>\n      <td>0</td>\n      <td>0</td>\n      <td>0</td>\n      <td>0</td>\n      <td>0</td>\n      <td>0</td>\n      <td>0</td>\n      <td>0</td>\n      <td>0</td>\n    </tr>\n    <tr>\n      <th>10</th>\n      <td>1</td>\n      <td>1</td>\n      <td>0</td>\n      <td>1</td>\n      <td>0</td>\n      <td>315000.0</td>\n      <td>26811.0</td>\n      <td>-17154</td>\n      <td>-4006</td>\n      <td>2.0</td>\n      <td>...</td>\n      <td>0</td>\n      <td>0</td>\n      <td>0</td>\n      <td>0</td>\n      <td>0</td>\n      <td>0</td>\n      <td>0</td>\n      <td>0</td>\n      <td>0</td>\n      <td>0</td>\n    </tr>\n    <tr>\n      <th>11</th>\n      <td>1</td>\n      <td>0</td>\n      <td>0</td>\n      <td>1</td>\n      <td>0</td>\n      <td>112500.0</td>\n      <td>135000.0</td>\n      <td>-19534</td>\n      <td>-771</td>\n      <td>2.0</td>\n      <td>...</td>\n      <td>0</td>\n      <td>0</td>\n      <td>0</td>\n      <td>0</td>\n      <td>0</td>\n      <td>0</td>\n      <td>0</td>\n      <td>0</td>\n      <td>0</td>\n      <td>0</td>\n    </tr>\n    <tr>\n      <th>12</th>\n      <td>1</td>\n      <td>1</td>\n      <td>0</td>\n      <td>1</td>\n      <td>0</td>\n      <td>135000.0</td>\n      <td>63414.0</td>\n      <td>-20781</td>\n      <td>-7989</td>\n      <td>2.0</td>\n      <td>...</td>\n      <td>0</td>\n      <td>0</td>\n      <td>0</td>\n      <td>0</td>\n      <td>0</td>\n      <td>0</td>\n      <td>0</td>\n      <td>0</td>\n      <td>0</td>\n      <td>0</td>\n    </tr>\n    <tr>\n      <th>13</th>\n      <td>1</td>\n      <td>1</td>\n      <td>1</td>\n      <td>0</td>\n      <td>0</td>\n      <td>90000.0</td>\n      <td>47110.5</td>\n      <td>-11244</td>\n      <td>-1772</td>\n      <td>1.0</td>\n      <td>...</td>\n      <td>0</td>\n      <td>0</td>\n      <td>0</td>\n      <td>0</td>\n      <td>0</td>\n      <td>0</td>\n      <td>0</td>\n      <td>0</td>\n      <td>0</td>\n      <td>0</td>\n    </tr>\n    <tr>\n      <th>14</th>\n      <td>0</td>\n      <td>1</td>\n      <td>0</td>\n      <td>1</td>\n      <td>0</td>\n      <td>112500.0</td>\n      <td>73935.0</td>\n      <td>-19004</td>\n      <td>-4935</td>\n      <td>2.0</td>\n      <td>...</td>\n      <td>0</td>\n      <td>0</td>\n      <td>0</td>\n      <td>0</td>\n      <td>0</td>\n      <td>0</td>\n      <td>0</td>\n      <td>0</td>\n      <td>0</td>\n      <td>0</td>\n    </tr>\n    <tr>\n      <th>15</th>\n      <td>0</td>\n      <td>1</td>\n      <td>1</td>\n      <td>1</td>\n      <td>0</td>\n      <td>121500.0</td>\n      <td>0.0</td>\n      <td>-18494</td>\n      <td>-5551</td>\n      <td>1.0</td>\n      <td>...</td>\n      <td>0</td>\n      <td>0</td>\n      <td>0</td>\n      <td>0</td>\n      <td>0</td>\n      <td>0</td>\n      <td>0</td>\n      <td>0</td>\n      <td>0</td>\n      <td>0</td>\n    </tr>\n    <tr>\n      <th>16</th>\n      <td>0</td>\n      <td>0</td>\n      <td>0</td>\n      <td>1</td>\n      <td>0</td>\n      <td>225000.0</td>\n      <td>0.0</td>\n      <td>-19094</td>\n      <td>-5915</td>\n      <td>1.0</td>\n      <td>...</td>\n      <td>0</td>\n      <td>0</td>\n      <td>0</td>\n      <td>0</td>\n      <td>0</td>\n      <td>0</td>\n      <td>0</td>\n      <td>0</td>\n      <td>0</td>\n      <td>0</td>\n    </tr>\n    <tr>\n      <th>17</th>\n      <td>0</td>\n      <td>1</td>\n      <td>0</td>\n      <td>1</td>\n      <td>0</td>\n      <td>202500.0</td>\n      <td>0.0</td>\n      <td>-11027</td>\n      <td>-1801</td>\n      <td>1.0</td>\n      <td>...</td>\n      <td>0</td>\n      <td>0</td>\n      <td>0</td>\n      <td>0</td>\n      <td>0</td>\n      <td>0</td>\n      <td>0</td>\n      <td>0</td>\n      <td>0</td>\n      <td>0</td>\n    </tr>\n    <tr>\n      <th>18</th>\n      <td>0</td>\n      <td>1</td>\n      <td>1</td>\n      <td>1</td>\n      <td>0</td>\n      <td>292500.0</td>\n      <td>0.0</td>\n      <td>-16625</td>\n      <td>-8136</td>\n      <td>2.0</td>\n      <td>...</td>\n      <td>0</td>\n      <td>0</td>\n      <td>0</td>\n      <td>0</td>\n      <td>0</td>\n      <td>0</td>\n      <td>0</td>\n      <td>0</td>\n      <td>0</td>\n      <td>0</td>\n    </tr>\n    <tr>\n      <th>19</th>\n      <td>1</td>\n      <td>0</td>\n      <td>0</td>\n      <td>1</td>\n      <td>0</td>\n      <td>247500.0</td>\n      <td>284400.0</td>\n      <td>-24019</td>\n      <td>365243</td>\n      <td>2.0</td>\n      <td>...</td>\n      <td>0</td>\n      <td>0</td>\n      <td>0</td>\n      <td>0</td>\n      <td>0</td>\n      <td>0</td>\n      <td>0</td>\n      <td>0</td>\n      <td>0</td>\n      <td>0</td>\n    </tr>\n  </tbody>\n</table>\n<p>20 rows × 48 columns</p>\n</div>"
     },
     "metadata": {},
     "execution_count": 24
    }
   ],
   "source": [
    "df4 = one_hot_encode(df3, 'NAME_INCOME_TYPE')\n",
    "df5 = one_hot_encode(df4, 'NAME_EDUCATION_TYPE')\n",
    "df6 = one_hot_encode(df5, 'NAME_FAMILY_STATUS')\n",
    "df7 = one_hot_encode(df6, 'NAME_HOUSING_TYPE')\n",
    "df8 = one_hot_encode(df7, 'OCCUPATION_TYPE')\n",
    "df8.head(20)"
   ]
  },
  {
   "source": [
    "# Training the models"
   ],
   "cell_type": "markdown",
   "metadata": {}
  },
  {
   "source": [
    "## Split the dataframe into X and y as numpy arrays"
   ],
   "cell_type": "markdown",
   "metadata": {}
  },
  {
   "source": [
    "convert the dataframe into a numpy tensor"
   ],
   "cell_type": "markdown",
   "metadata": {}
  },
  {
   "cell_type": "code",
   "execution_count": 25,
   "metadata": {
    "tags": []
   },
   "outputs": [],
   "source": [
    "dataset_as_array = np.array(df8)\n",
    "X = dataset_as_array[:,1:]\n",
    "y = dataset_as_array[:,0].reshape((-1,1)).astype(np.int32)"
   ]
  },
  {
   "source": [
    "normalize the data"
   ],
   "cell_type": "markdown",
   "metadata": {}
  },
  {
   "cell_type": "code",
   "execution_count": 27,
   "metadata": {
    "tags": [
     "outputPrepend"
    ]
   },
   "outputs": [
    {
     "output_type": "stream",
     "name": "stdout",
     "text": [
      "58870251e-01  6.15572864e-01 -5.49004115e-01 -1.82988828e-01\n  -1.04488820e-01  7.30576711e-01 -2.60614068e-01 -3.79000467e-01\n  -2.50848899e-01 -3.32592098e-01 -2.94786745e+00 -1.17420229e-01\n   5.20479468e+00 -7.50435647e-02 -2.17577014e-01 -5.66592700e-02\n  -1.65945831e-01 -1.94357944e-01 -3.63656949e-01  0.00000000e+00\n  -2.45398708e-01 -4.63434594e-01 -1.49982957e-01 -3.19072035e-01\n  -2.55322548e-01 -1.65945831e-01 -1.49982957e-01 -5.66592700e-02\n  -1.10207754e-01 -8.02572354e-02 -8.75111555e-02 -1.30717492e-01\n  -3.46618195e-02 -5.29892632e-02 -3.46618195e-02]\n [-6.88517686e-01 -7.13267660e-01  6.18044492e-01 -5.61770525e-01\n  -6.93583493e-01 -6.21399096e-01 -7.47695376e-01 -4.90231088e-01\n  -1.65914362e-01 -2.63229921e-01  9.82552189e-01 -4.81802923e-01\n  -5.58870251e-01  6.15572864e-01 -5.49004115e-01 -1.82988828e-01\n  -1.04488820e-01  7.30576711e-01 -2.60614068e-01 -3.79000467e-01\n  -2.50848899e-01 -3.32592098e-01  3.39228279e-01 -1.17420229e-01\n  -1.92130538e-01 -7.50435647e-02 -2.17577014e-01 -5.66592700e-02\n  -1.65945831e-01 -1.94357944e-01 -3.63656949e-01  0.00000000e+00\n  -2.45398708e-01  2.15780180e+00 -1.49982957e-01 -3.19072035e-01\n  -2.55322548e-01 -1.65945831e-01 -1.49982957e-01 -5.66592700e-02\n  -1.10207754e-01 -8.02572354e-02 -8.75111555e-02 -1.30717492e-01\n  -3.46618195e-02 -5.29892632e-02 -3.46618195e-02]\n [ 1.45239552e+00  1.40199824e+00  6.18044492e-01 -5.61770525e-01\n  -1.00563348e+00  2.81512161e-01 -4.98003571e-01 -4.69421767e-01\n  -1.65914362e-01 -2.63229921e-01  9.82552189e-01 -4.81802923e-01\n  -5.58870251e-01 -1.62450306e+00  1.82147997e+00 -1.82988828e-01\n  -1.04488820e-01  7.30576711e-01 -2.60614068e-01 -3.79000467e-01\n  -2.50848899e-01 -3.32592098e-01  3.39228279e-01 -1.17420229e-01\n  -1.92130538e-01 -7.50435647e-02 -2.17577014e-01 -5.66592700e-02\n  -1.65945831e-01 -1.94357944e-01 -3.63656949e-01  0.00000000e+00\n   4.07500108e+00 -4.63434594e-01 -1.49982957e-01 -3.19072035e-01\n  -2.55322548e-01 -1.65945831e-01 -1.49982957e-01 -5.66592700e-02\n  -1.10207754e-01 -8.02572354e-02 -8.75111555e-02 -1.30717492e-01\n  -3.46618195e-02 -5.29892632e-02 -3.46618195e-02]\n [-6.88517686e-01 -7.13267660e-01  6.18044492e-01 -5.61770525e-01\n   1.90558128e-01 -3.05199574e-01 -1.25463846e+00  2.07531759e+00\n  -1.65914362e-01 -2.63229921e-01 -1.01775764e+00  2.07553743e+00\n  -5.58870251e-01  6.15572864e-01 -5.49004115e-01 -1.82988828e-01\n  -1.04488820e-01  7.30576711e-01 -2.60614068e-01 -3.79000467e-01\n  -2.50848899e-01 -3.32592098e-01  3.39228279e-01 -1.17420229e-01\n  -1.92130538e-01 -7.50435647e-02 -2.17577014e-01 -5.66592700e-02\n  -1.65945831e-01 -1.94357944e-01 -3.63656949e-01  0.00000000e+00\n  -2.45398708e-01 -4.63434594e-01 -1.49982957e-01 -3.19072035e-01\n  -2.55322548e-01 -1.65945831e-01 -1.49982957e-01 -5.66592700e-02\n  -1.10207754e-01 -8.02572354e-02 -8.75111555e-02 -1.30717492e-01\n  -3.46618195e-02 -5.29892632e-02 -3.46618195e-02]\n [-6.88517686e-01 -7.13267660e-01  6.18044492e-01 -5.61770525e-01\n   1.90683304e+00  1.09100220e+00 -1.56159903e+00  2.07531759e+00\n  -1.65914362e-01 -2.63229921e-01 -1.01775764e+00  2.07553743e+00\n  -5.58870251e-01  6.15572864e-01 -5.49004115e-01 -1.82988828e-01\n  -1.04488820e-01 -1.36878165e+00 -2.60614068e-01 -3.79000467e-01\n  -2.50848899e-01  3.00668599e+00  3.39228279e-01 -1.17420229e-01\n  -1.92130538e-01 -7.50435647e-02 -2.17577014e-01 -5.66592700e-02\n  -1.65945831e-01 -1.94357944e-01 -3.63656949e-01  0.00000000e+00\n  -2.45398708e-01 -4.63434594e-01 -1.49982957e-01 -3.19072035e-01\n  -2.55322548e-01 -1.65945831e-01 -1.49982957e-01 -5.66592700e-02\n  -1.10207754e-01 -8.02572354e-02 -8.75111555e-02 -1.30717492e-01\n  -3.46618195e-02 -5.29892632e-02 -3.46618195e-02]\n [-6.88517686e-01 -7.13267660e-01 -1.61800649e+00 -5.61770525e-01\n  -6.93583493e-01 -3.97010600e-01  2.72604900e-01 -4.69115747e-01\n  -1.29304997e+00 -2.63229921e-01  9.82552189e-01 -4.81802923e-01\n  -5.58870251e-01  6.15572864e-01 -5.49004115e-01 -1.82988828e-01\n  -1.04488820e-01 -1.36878165e+00 -2.60614068e-01  2.63851918e+00\n  -2.50848899e-01 -3.32592098e-01  3.39228279e-01 -1.17420229e-01\n  -1.92130538e-01 -7.50435647e-02 -2.17577014e-01 -5.66592700e-02\n  -1.65945831e-01 -1.94357944e-01 -3.63656949e-01  0.00000000e+00\n  -2.45398708e-01 -4.63434594e-01 -1.49982957e-01 -3.19072035e-01\n  -2.55322548e-01 -1.65945831e-01 -1.49982957e-01 -5.66592700e-02\n   9.07377173e+00 -8.02572354e-02 -8.75111555e-02 -1.30717492e-01\n  -3.46618195e-02 -5.29892632e-02 -3.46618195e-02]\n [-6.88517686e-01 -7.13267660e-01 -1.61800649e+00 -5.61770525e-01\n  -1.73500186e-01 -4.15490184e-01 -1.60924664e+00  2.07531759e+00\n  -1.65914362e-01 -2.63229921e-01 -1.01775764e+00  2.07553743e+00\n  -5.58870251e-01  6.15572864e-01 -5.49004115e-01 -1.82988828e-01\n  -1.04488820e-01  7.30576711e-01 -2.60614068e-01 -3.79000467e-01\n  -2.50848899e-01 -3.32592098e-01  3.39228279e-01 -1.17420229e-01\n  -1.92130538e-01 -7.50435647e-02 -2.17577014e-01 -5.66592700e-02\n  -1.65945831e-01 -1.94357944e-01 -3.63656949e-01  0.00000000e+00\n  -2.45398708e-01 -4.63434594e-01 -1.49982957e-01 -3.19072035e-01\n  -2.55322548e-01 -1.65945831e-01 -1.49982957e-01 -5.66592700e-02\n  -1.10207754e-01 -8.02572354e-02 -8.75111555e-02 -1.30717492e-01\n  -3.46618195e-02 -5.29892632e-02 -3.46618195e-02]\n [ 1.45239552e+00 -7.13267660e-01  6.18044492e-01  8.58276302e-01\n  -4.85550170e-01 -6.21399096e-01  6.27721533e-02 -4.72746250e-01\n   9.61221250e-01 -2.63229921e-01  9.82552189e-01 -4.81802923e-01\n  -5.58870251e-01  6.15572864e-01 -5.49004115e-01 -1.82988828e-01\n  -1.04488820e-01  7.30576711e-01 -2.60614068e-01 -3.79000467e-01\n  -2.50848899e-01 -3.32592098e-01  3.39228279e-01 -1.17420229e-01\n  -1.92130538e-01 -7.50435647e-02 -2.17577014e-01 -5.66592700e-02\n  -1.65945831e-01 -1.94357944e-01 -3.63656949e-01  0.00000000e+00\n  -2.45398708e-01  2.15780180e+00 -1.49982957e-01 -3.19072035e-01\n  -2.55322548e-01 -1.65945831e-01 -1.49982957e-01 -5.66592700e-02\n  -1.10207754e-01 -8.02572354e-02 -8.75111555e-02 -1.30717492e-01\n  -3.46618195e-02 -5.29892632e-02 -3.46618195e-02]\n [-6.88517686e-01 -7.13267660e-01  6.18044492e-01 -5.61770525e-01\n  -6.93583493e-01 -1.84931794e-01 -1.34329051e+00  2.07531759e+00\n  -1.65914362e-01 -2.63229921e-01 -1.01775764e+00  2.07553743e+00\n  -5.58870251e-01  6.15572864e-01 -5.49004115e-01 -1.82988828e-01\n  -1.04488820e-01  7.30576711e-01 -2.60614068e-01 -3.79000467e-01\n  -2.50848899e-01 -3.32592098e-01  3.39228279e-01 -1.17420229e-01\n  -1.92130538e-01 -7.50435647e-02 -2.17577014e-01 -5.66592700e-02\n  -1.65945831e-01 -1.94357944e-01 -3.63656949e-01  0.00000000e+00\n  -2.45398708e-01 -4.63434594e-01 -1.49982957e-01 -3.19072035e-01\n  -2.55322548e-01 -1.65945831e-01 -1.49982957e-01 -5.66592700e-02\n  -1.10207754e-01 -8.02572354e-02 -8.75111555e-02 -1.30717492e-01\n  -3.46618195e-02 -5.29892632e-02 -3.46618195e-02]\n [-6.88517686e-01  1.40199824e+00 -1.61800649e+00  8.58276302e-01\n   8.65414669e-02 -5.61235109e-01  3.06278932e-01 -4.76272429e-01\n  -1.65914362e-01 -2.63229921e-01  9.82552189e-01 -4.81802923e-01\n  -5.58870251e-01 -1.62450306e+00  1.82147997e+00 -1.82988828e-01\n  -1.04488820e-01 -1.36878165e+00 -2.60614068e-01 -3.79000467e-01\n   3.98646358e+00 -3.32592098e-01  3.39228279e-01 -1.17420229e-01\n  -1.92130538e-01 -7.50435647e-02 -2.17577014e-01 -5.66592700e-02\n  -1.65945831e-01 -1.94357944e-01 -3.63656949e-01  0.00000000e+00\n  -2.45398708e-01 -4.63434594e-01 -1.49982957e-01 -3.19072035e-01\n  -2.55322548e-01 -1.65945831e-01 -1.49982957e-01 -5.66592700e-02\n  -1.10207754e-01 -8.02572354e-02 -8.75111555e-02 -1.30717492e-01\n  -3.46618195e-02 -5.29892632e-02 -3.46618195e-02]\n [-6.88517686e-01 -7.13267660e-01  6.18044492e-01 -5.61770525e-01\n  -6.41575162e-01 -5.35532236e-01 -6.02003644e-01 -4.85953771e-01\n  -1.65914362e-01 -2.63229921e-01  9.82552189e-01 -4.81802923e-01\n  -5.58870251e-01  6.15572864e-01 -5.49004115e-01 -1.82988828e-01\n  -1.04488820e-01  7.30576711e-01 -2.60614068e-01 -3.79000467e-01\n  -2.50848899e-01 -3.32592098e-01  3.39228279e-01 -1.17420229e-01\n  -1.92130538e-01 -7.50435647e-02 -2.17577014e-01 -5.66592700e-02\n  -1.65945831e-01 -1.94357944e-01 -3.63656949e-01  0.00000000e+00\n  -2.45398708e-01 -4.63434594e-01 -1.49982957e-01 -3.19072035e-01\n  -2.55322548e-01 -1.65945831e-01 -1.49982957e-01 -5.66592700e-02\n  -1.10207754e-01 -8.02572354e-02 -8.75111555e-02 -1.30717492e-01\n  -3.46618195e-02 -5.29892632e-02 -3.46618195e-02]\n [-6.88517686e-01 -7.13267660e-01  6.18044492e-01 -5.61770525e-01\n  -5.37558501e-01 -5.63101126e-01  1.04481690e+00 -4.67223991e-01\n  -1.65914362e-01 -2.63229921e-01  9.82552189e-01 -4.81802923e-01\n  -5.58870251e-01  6.15572864e-01 -5.49004115e-01 -1.82988828e-01\n  -1.04488820e-01 -1.36878165e+00 -2.60614068e-01 -3.79000467e-01\n  -2.50848899e-01  3.00668599e+00 -2.94786745e+00 -1.17420229e-01\n  -1.92130538e-01 -7.50435647e-02  4.59607374e+00 -5.66592700e-02\n  -1.65945831e-01 -1.94357944e-01 -3.63656949e-01  0.00000000e+00\n  -2.45398708e-01 -4.63434594e-01 -1.49982957e-01 -3.19072035e-01\n  -2.55322548e-01  6.02606280e+00 -1.49982957e-01 -5.66592700e-02\n  -1.10207754e-01 -8.02572354e-02 -8.75111555e-02 -1.30717492e-01\n  -3.46618195e-02 -5.29892632e-02 -3.46618195e-02]\n [-6.88517686e-01  1.40199824e+00 -1.61800649e+00 -5.61770525e-01\n  -1.73500186e-01 -5.24050214e-01  9.62674156e-03 -4.79583003e-01\n  -1.65914362e-01 -2.63229921e-01  9.82552189e-01 -4.81802923e-01\n  -5.58870251e-01  6.15572864e-01 -5.49004115e-01 -1.82988828e-01\n  -1.04488820e-01  7.30576711e-01 -2.60614068e-01 -3.79000467e-01\n  -2.50848899e-01 -3.32592098e-01  3.39228279e-01 -1.17420229e-01\n  -1.92130538e-01 -7.50435647e-02 -2.17577014e-01 -5.66592700e-02\n   6.02606280e+00 -1.94357944e-01 -3.63656949e-01  0.00000000e+00\n  -2.45398708e-01 -4.63434594e-01 -1.49982957e-01 -3.19072035e-01\n  -2.55322548e-01 -1.65945831e-01 -1.49982957e-01 -5.66592700e-02\n  -1.10207754e-01 -8.02572354e-02 -8.75111555e-02 -1.30717492e-01\n  -3.46618195e-02 -5.29892632e-02 -3.46618195e-02]\n [-6.88517686e-01 -7.13267660e-01  6.18044492e-01 -5.61770525e-01\n  -7.19587658e-01 -4.23405706e-01 -1.02052376e+00  2.07531759e+00\n  -1.65914362e-01 -2.63229921e-01 -1.01775764e+00  2.07553743e+00\n  -5.58870251e-01  6.15572864e-01 -5.49004115e-01 -1.82988828e-01\n  -1.04488820e-01 -1.36878165e+00 -2.60614068e-01 -3.79000467e-01\n  -2.50848899e-01  3.00668599e+00  3.39228279e-01 -1.17420229e-01\n  -1.92130538e-01 -7.50435647e-02 -2.17577014e-01 -5.66592700e-02\n  -1.65945831e-01 -1.94357944e-01 -3.63656949e-01  0.00000000e+00\n  -2.45398708e-01 -4.63434594e-01 -1.49982957e-01 -3.19072035e-01\n  -2.55322548e-01 -1.65945831e-01 -1.49982957e-01 -5.66592700e-02\n  -1.10207754e-01 -8.02572354e-02 -8.75111555e-02 -1.30717492e-01\n  -3.46618195e-02 -5.29892632e-02 -3.46618195e-02]\n [-6.88517686e-01 -7.13267660e-01  6.18044492e-01  8.58276302e-01\n  -4.33541839e-01 -5.49512312e-01  5.50702011e-01 -4.75173541e-01\n   9.61221250e-01 -2.63229921e-01  9.82552189e-01 -4.81802923e-01\n  -5.58870251e-01  6.15572864e-01 -5.49004115e-01 -1.82988828e-01\n  -1.04488820e-01  7.30576711e-01 -2.60614068e-01 -3.79000467e-01\n  -2.50848899e-01 -3.32592098e-01 -2.94786745e+00  8.51642013e+00\n  -1.92130538e-01 -7.50435647e-02 -2.17577014e-01 -5.66592700e-02\n  -1.65945831e-01 -1.94357944e-01 -3.63656949e-01  0.00000000e+00\n  -2.45398708e-01 -4.63434594e-01  6.66742420e+00 -3.19072035e-01\n  -2.55322548e-01 -1.65945831e-01 -1.49982957e-01 -5.66592700e-02\n  -1.10207754e-01 -8.02572354e-02 -8.75111555e-02 -1.30717492e-01\n  -3.46618195e-02 -5.29892632e-02 -3.46618195e-02]\n [-6.88517686e-01 -7.13267660e-01  6.18044492e-01  8.58276302e-01\n   6.06624773e-01 -2.80700582e-01  1.21524873e+00 -4.68058589e-01\n   9.61221250e-01 -2.63229921e-01  9.82552189e-01 -4.81802923e-01\n  -5.58870251e-01 -1.62450306e+00  1.82147997e+00 -1.82988828e-01\n  -1.04488820e-01  7.30576711e-01 -2.60614068e-01 -3.79000467e-01\n  -2.50848899e-01 -3.32592098e-01  3.39228279e-01 -1.17420229e-01\n  -1.92130538e-01 -7.50435647e-02 -2.17577014e-01 -5.66592700e-02\n  -1.65945831e-01 -1.94357944e-01 -3.63656949e-01  0.00000000e+00\n  -2.45398708e-01 -4.63434594e-01 -1.49982957e-01 -3.19072035e-01\n   3.91661452e+00 -1.65945831e-01 -1.49982957e-01 -5.66592700e-02\n  -1.10207754e-01 -8.02572354e-02 -8.75111555e-02 -1.30717492e-01\n  -3.46618195e-02 -5.29892632e-02 -3.46618195e-02]\n [-6.88517686e-01 -7.13267660e-01 -1.61800649e+00 -5.61770525e-01\n  -1.16165847e+00 -3.96288271e-01 -1.11673528e+00 -4.78317195e-01\n  -1.65914362e-01 -2.63229921e-01  9.82552189e-01 -4.81802923e-01\n  -5.58870251e-01  6.15572864e-01 -5.49004115e-01 -1.82988828e-01\n  -1.04488820e-01  7.30576711e-01 -2.60614068e-01 -3.79000467e-01\n  -2.50848899e-01 -3.32592098e-01  3.39228279e-01 -1.17420229e-01\n  -1.92130538e-01 -7.50435647e-02 -2.17577014e-01 -5.66592700e-02\n  -1.65945831e-01 -1.94357944e-01 -3.63656949e-01  0.00000000e+00\n  -2.45398708e-01 -4.63434594e-01 -1.49982957e-01 -3.19072035e-01\n  -2.55322548e-01 -1.65945831e-01  6.66742420e+00 -5.66592700e-02\n  -1.10207754e-01 -8.02572354e-02 -8.75111555e-02 -1.30717492e-01\n  -3.46618195e-02 -5.29892632e-02 -3.46618195e-02]\n [-6.88517686e-01 -7.13267660e-01  6.18044492e-01 -5.61770525e-01\n  -3.81533509e-01 -1.70575505e-01 -1.25527538e-01 -4.78845774e-01\n  -1.65914362e-01 -2.63229921e-01  9.82552189e-01 -4.81802923e-01\n  -5.58870251e-01  6.15572864e-01 -5.49004115e-01 -1.82988828e-01\n  -1.04488820e-01 -1.36878165e+00 -2.60614068e-01 -3.79000467e-01\n  -2.50848899e-01  3.00668599e+00  3.39228279e-01 -1.17420229e-01\n  -1.92130538e-01 -7.50435647e-02 -2.17577014e-01 -5.66592700e-02\n  -1.65945831e-01 -1.94357944e-01 -3.63656949e-01  0.00000000e+00\n  -2.45398708e-01 -4.63434594e-01 -1.49982957e-01 -3.19072035e-01\n  -2.55322548e-01 -1.65945831e-01  6.66742420e+00 -5.66592700e-02\n  -1.10207754e-01 -8.02572354e-02 -8.75111555e-02 -1.30717492e-01\n  -3.46618195e-02 -5.29892632e-02 -3.46618195e-02]\n [ 1.45239552e+00  1.40199824e+00  6.18044492e-01  2.27832313e+00\n   1.49076639e+00 -5.56419583e-01  1.14084965e-01 -5.21340745e-01\n   2.08835686e+00 -2.63229921e-01  9.82552189e-01 -4.81802923e-01\n  -5.58870251e-01  6.15572864e-01 -5.49004115e-01 -1.82988828e-01\n  -1.04488820e-01  7.30576711e-01 -2.60614068e-01 -3.79000467e-01\n  -2.50848899e-01 -3.32592098e-01  3.39228279e-01 -1.17420229e-01\n  -1.92130538e-01 -7.50435647e-02 -2.17577014e-01 -5.66592700e-02\n  -1.65945831e-01 -1.94357944e-01 -3.63656949e-01  0.00000000e+00\n  -2.45398708e-01  2.15780180e+00 -1.49982957e-01 -3.19072035e-01\n  -2.55322548e-01 -1.65945831e-01 -1.49982957e-01 -5.66592700e-02\n  -1.10207754e-01 -8.02572354e-02 -8.75111555e-02 -1.30717492e-01\n  -3.46618195e-02 -5.29892632e-02 -3.46618195e-02]\n [-6.88517686e-01  1.40199824e+00  6.18044492e-01  8.58276302e-01\n  -1.73500186e-01 -6.21399096e-01  1.02860287e-01 -4.68962738e-01\n   9.61221250e-01 -2.63229921e-01  9.82552189e-01 -4.81802923e-01\n  -5.58870251e-01 -1.62450306e+00  1.82147997e+00 -1.82988828e-01\n  -1.04488820e-01  7.30576711e-01 -2.60614068e-01 -3.79000467e-01\n  -2.50848899e-01 -3.32592098e-01  3.39228279e-01 -1.17420229e-01\n  -1.92130538e-01 -7.50435647e-02 -2.17577014e-01 -5.66592700e-02\n  -1.65945831e-01  5.14514601e+00 -3.63656949e-01  0.00000000e+00\n  -2.45398708e-01 -4.63434594e-01 -1.49982957e-01 -3.19072035e-01\n  -2.55322548e-01 -1.65945831e-01 -1.49982957e-01 -5.66592700e-02\n  -1.10207754e-01 -8.02572354e-02 -8.75111555e-02 -1.30717492e-01\n  -3.46618195e-02 -5.29892632e-02 -3.46618195e-02]\n [-6.88517686e-01 -7.13267660e-01 -1.61800649e+00  8.58276302e-01\n   1.64679139e+00 -6.21399096e-01  2.88690458e-02 -4.79019649e-01\n   9.61221250e-01 -2.63229921e-01  9.82552189e-01 -4.81802923e-01\n  -5.58870251e-01 -1.62450306e+00 -5.49004115e-01  5.46481450e+00\n  -1.04488820e-01  7.30576711e-01 -2.60614068e-01 -3.79000467e-01\n  -2.50848899e-01 -3.32592098e-01  3.39228279e-01 -1.17420229e-01\n  -1.92130538e-01 -7.50435647e-02 -2.17577014e-01 -5.66592700e-02\n  -1.65945831e-01 -1.94357944e-01 -3.63656949e-01  0.00000000e+00\n  -2.45398708e-01 -4.63434594e-01 -1.49982957e-01 -3.19072035e-01\n  -2.55322548e-01 -1.65945831e-01 -1.49982957e-01 -5.66592700e-02\n   9.07377173e+00 -8.02572354e-02 -8.75111555e-02 -1.30717492e-01\n  -3.46618195e-02 -5.29892632e-02 -3.46618195e-02]\n [-6.88517686e-01 -7.13267660e-01  6.18044492e-01  8.58276302e-01\n   8.65414669e-02 -9.60401811e-02  2.38243642e-01 -4.75542155e-01\n   9.61221250e-01 -2.63229921e-01 -1.01775764e+00 -4.81802923e-01\n   1.78932408e+00  6.15572864e-01 -5.49004115e-01 -1.82988828e-01\n  -1.04488820e-01  7.30576711e-01 -2.60614068e-01 -3.79000467e-01\n  -2.50848899e-01 -3.32592098e-01  3.39228279e-01 -1.17420229e-01\n  -1.92130538e-01 -7.50435647e-02 -2.17577014e-01 -5.66592700e-02\n  -1.65945831e-01 -1.94357944e-01 -3.63656949e-01  0.00000000e+00\n  -2.45398708e-01 -4.63434594e-01 -1.49982957e-01 -3.19072035e-01\n   3.91661452e+00 -1.65945831e-01 -1.49982957e-01 -5.66592700e-02\n  -1.10207754e-01 -8.02572354e-02 -8.75111555e-02 -1.30717492e-01\n  -3.46618195e-02 -5.29892632e-02 -3.46618195e-02]\n [-6.88517686e-01 -7.13267660e-01  6.18044492e-01  8.58276302e-01\n  -3.81533509e-01 -4.36166852e-01  1.09750416e+00 -4.75820355e-01\n   9.61221250e-01  3.79896022e+00 -1.01775764e+00 -4.81802923e-01\n  -5.58870251e-01  6.15572864e-01 -5.49004115e-01 -1.82988828e-01\n  -1.04488820e-01  7.30576711e-01 -2.60614068e-01 -3.79000467e-01\n  -2.50848899e-01 -3.32592098e-01  3.39228279e-01 -1.17420229e-01\n  -1.92130538e-01 -7.50435647e-02 -2.17577014e-01 -5.66592700e-02\n  -1.65945831e-01 -1.94357944e-01 -3.63656949e-01  0.00000000e+00\n  -2.45398708e-01 -4.63434594e-01 -1.49982957e-01  3.13408852e+00\n  -2.55322548e-01 -1.65945831e-01 -1.49982957e-01 -5.66592700e-02\n  -1.10207754e-01 -8.02572354e-02 -8.75111555e-02 -1.30717492e-01\n  -3.46618195e-02 -5.29892632e-02 -3.46618195e-02]\n [-6.88517686e-01 -7.13267660e-01 -1.61800649e+00 -5.61770525e-01\n   3.98591451e-01  5.19921195e-02 -8.67501628e-01 -4.77301767e-01\n  -1.65914362e-01 -2.63229921e-01 -1.01775764e+00 -4.81802923e-01\n   1.78932408e+00  6.15572864e-01 -5.49004115e-01 -1.82988828e-01\n  -1.04488820e-01  7.30576711e-01 -2.60614068e-01 -3.79000467e-01\n  -2.50848899e-01 -3.32592098e-01  3.39228279e-01 -1.17420229e-01\n  -1.92130538e-01 -7.50435647e-02 -2.17577014e-01 -5.66592700e-02\n  -1.65945831e-01 -1.94357944e-01 -3.63656949e-01  0.00000000e+00\n  -2.45398708e-01 -4.63434594e-01 -1.49982957e-01 -3.19072035e-01\n  -2.55322548e-01 -1.65945831e-01  6.66742420e+00 -5.66592700e-02\n  -1.10207754e-01 -8.02572354e-02 -8.75111555e-02 -1.30717492e-01\n  -3.46618195e-02 -5.29892632e-02 -3.46618195e-02]\n [-6.88517686e-01 -7.13267660e-01  6.18044492e-01 -5.61770525e-01\n  -4.33541839e-01 -3.20428677e-01 -4.45774459e-01 -4.66145968e-01\n  -1.29304997e+00 -2.63229921e-01  9.82552189e-01 -4.81802923e-01\n  -5.58870251e-01  6.15572864e-01 -5.49004115e-01 -1.82988828e-01\n  -1.04488820e-01 -1.36878165e+00 -2.60614068e-01  2.63851918e+00\n  -2.50848899e-01 -3.32592098e-01  3.39228279e-01 -1.17420229e-01\n  -1.92130538e-01 -7.50435647e-02 -2.17577014e-01 -5.66592700e-02\n   6.02606280e+00 -1.94357944e-01 -3.63656949e-01  0.00000000e+00\n  -2.45398708e-01 -4.63434594e-01 -1.49982957e-01 -3.19072035e-01\n  -2.55322548e-01 -1.65945831e-01 -1.49982957e-01 -5.66592700e-02\n  -1.10207754e-01 -8.02572354e-02 -8.75111555e-02 -1.30717492e-01\n  -3.46618195e-02 -5.29892632e-02 -3.46618195e-02]\n [ 1.45239552e+00  1.40199824e+00  6.18044492e-01 -5.61770525e-01\n  -1.74751944e-02  2.81512161e-01  1.28337923e-02 -4.87240444e-01\n  -1.65914362e-01 -2.63229921e-01  9.82552189e-01 -4.81802923e-01\n  -5.58870251e-01  6.15572864e-01 -5.49004115e-01 -1.82988828e-01\n  -1.04488820e-01  7.30576711e-01 -2.60614068e-01 -3.79000467e-01\n  -2.50848899e-01 -3.32592098e-01  3.39228279e-01 -1.17420229e-01\n  -1.92130538e-01 -7.50435647e-02 -2.17577014e-01 -5.66592700e-02\n  -1.65945831e-01 -1.94357944e-01 -3.63656949e-01  0.00000000e+00\n  -2.45398708e-01 -4.63434594e-01 -1.49982957e-01 -3.19072035e-01\n  -2.55322548e-01 -1.65945831e-01 -1.49982957e-01 -5.66592700e-02\n  -1.10207754e-01 -8.02572354e-02  1.14271146e+01 -1.30717492e-01\n  -3.46618195e-02 -5.29892632e-02 -3.46618195e-02]]\n"
     ]
    }
   ],
   "source": [
    "from sklearn import preprocessing\n",
    "X = preprocessing.StandardScaler().fit_transform(X)\n",
    "print(X)"
   ]
  },
  {
   "source": [
    "## Creating the test class\n",
    "We will create a class that collects everything we need to build and to analyze a model. The class will point to our data, and to a model building algorithm, and will provide functionality for presenting results."
   ],
   "cell_type": "markdown",
   "metadata": {}
  },
  {
   "cell_type": "code",
   "execution_count": 15,
   "metadata": {},
   "outputs": [],
   "source": [
    "from sklearn.model_selection import train_test_split\n",
    "\n",
    "class Test:\n",
    "    def __init__(self, name, X, y, algorithm, args):\n",
    "        self.name = name\n",
    "        self.X = X  #pointer, not copy\n",
    "        self.y = y\n",
    "        self.algorithm = algorithm\n",
    "        self.args = args\n",
    "    \n",
    "    def run(self, split=0.8):\n",
    "        X_train, X_test = train_test_split(self.X, train_size=split, test_size=(1.0-split))\n",
    "        y_train, y_test = train_test_split(self.y, train_size=split, test_size=(1.0-split))\n",
    "        model = self.algorithm(**self.args)\n",
    "        print(\"before\")\n",
    "        model.fit(X_train, y_train.ravel())\n",
    "        print(\"after\")\n",
    "        acc_train = model.score(X_train,y_train.ravel())\n",
    "        acc_test = model.score(X_test,y_test)\n",
    "        return acc_train, acc_test"
   ]
  },
  {
   "source": [
    "## Support Vector Machine Modelling\n",
    "The motivation behind support vector machines is that we are building a line of best fit between two datasets, where \"best\" is defined by an objective function of distance between our line of best fit and between critical points, called support vectors, of these datasets. Support vectors are the closest points to a line of best fit. Our best fit line is also a decision boundary."
   ],
   "cell_type": "markdown",
   "metadata": {}
  },
  {
   "cell_type": "code",
   "execution_count": 16,
   "metadata": {},
   "outputs": [],
   "source": [
    "from sklearn import svm"
   ]
  },
  {
   "source": [
    "### Tests comparing the three kernels"
   ],
   "cell_type": "markdown",
   "metadata": {}
  },
  {
   "cell_type": "code",
   "execution_count": 15,
   "metadata": {},
   "outputs": [],
   "source": [
    "svm_basic_tests = [\n",
    "    Test(\n",
    "        name='SVM linear',\n",
    "        X=X,\n",
    "        y=y,\n",
    "        algorithm=svm.SVC,\n",
    "        args={'probability': False, 'kernel': 'linear', 'C': 100}\n",
    "    )\n",
    "]"
   ]
  },
  {
   "cell_type": "code",
   "execution_count": 17,
   "metadata": {},
   "outputs": [
    {
     "output_type": "error",
     "ename": "NameError",
     "evalue": "name 'svm_basic_tests' is not defined",
     "traceback": [
      "\u001b[1;31m---------------------------------------------------------------------------\u001b[0m",
      "\u001b[1;31mNameError\u001b[0m                                 Traceback (most recent call last)",
      "\u001b[1;32m<ipython-input-17-e5c9d6b683d5>\u001b[0m in \u001b[0;36m<module>\u001b[1;34m\u001b[0m\n\u001b[1;32m----> 1\u001b[1;33m \u001b[1;32mfor\u001b[0m \u001b[0mtest\u001b[0m \u001b[1;32min\u001b[0m \u001b[0msvm_basic_tests\u001b[0m\u001b[1;33m:\u001b[0m\u001b[1;33m\u001b[0m\u001b[1;33m\u001b[0m\u001b[0m\n\u001b[0m\u001b[0;32m      2\u001b[0m     \u001b[0mprint\u001b[0m\u001b[1;33m(\u001b[0m\u001b[1;34mf'\\n\\n{test.name}\\n'\u001b[0m \u001b[1;33m+\u001b[0m \u001b[1;34m'='\u001b[0m\u001b[1;33m*\u001b[0m\u001b[0mlen\u001b[0m\u001b[1;33m(\u001b[0m\u001b[0mtest\u001b[0m\u001b[1;33m.\u001b[0m\u001b[0mname\u001b[0m\u001b[1;33m)\u001b[0m\u001b[1;33m)\u001b[0m\u001b[1;33m\u001b[0m\u001b[1;33m\u001b[0m\u001b[0m\n\u001b[0;32m      3\u001b[0m     \u001b[0macc_train\u001b[0m\u001b[1;33m,\u001b[0m \u001b[0macc_test\u001b[0m \u001b[1;33m=\u001b[0m \u001b[0mtest\u001b[0m\u001b[1;33m.\u001b[0m\u001b[0mrun\u001b[0m\u001b[1;33m(\u001b[0m\u001b[1;33m)\u001b[0m\u001b[1;33m\u001b[0m\u001b[1;33m\u001b[0m\u001b[0m\n\u001b[0;32m      4\u001b[0m     \u001b[0mprint\u001b[0m\u001b[1;33m(\u001b[0m\u001b[1;34mf'Training accuracy: {acc_train}'\u001b[0m\u001b[1;33m)\u001b[0m\u001b[1;33m\u001b[0m\u001b[1;33m\u001b[0m\u001b[0m\n\u001b[0;32m      5\u001b[0m     \u001b[0mprint\u001b[0m\u001b[1;33m(\u001b[0m\u001b[1;34mf'Test accuracy: {acc_test}'\u001b[0m\u001b[1;33m)\u001b[0m\u001b[1;33m\u001b[0m\u001b[1;33m\u001b[0m\u001b[0m\n",
      "\u001b[1;31mNameError\u001b[0m: name 'svm_basic_tests' is not defined"
     ]
    }
   ],
   "source": [
    "for test in svm_basic_tests:\n",
    "    print(f'\\n\\n{test.name}\\n' + '='*len(test.name))\n",
    "    acc_train, acc_test = test.run()\n",
    "    print(f'Training accuracy: {acc_train}')\n",
    "    print(f'Test accuracy: {acc_test}')"
   ]
  },
  {
   "source": [
    "### Tests comparing different degrees of the polynomial kernel"
   ],
   "cell_type": "markdown",
   "metadata": {}
  },
  {
   "cell_type": "code",
   "execution_count": 13,
   "metadata": {},
   "outputs": [],
   "source": [
    "svm_poly_tests = [Test(name=f'SVM poly of degree {i}', X=X_norm, y=y_norm, algorithm=svm.SVC, args={'probability': False, 'kernel': 'poly', 'C': 0.001, 'degree': i}) for i in range(1,11)]"
   ]
  },
  {
   "cell_type": "code",
   "execution_count": 14,
   "metadata": {},
   "outputs": [
    {
     "output_type": "stream",
     "name": "stdout",
     "text": [
      "\n",
      "\n",
      "SVM poly of degree 1\n",
      "====================\n",
      "Training accuracy: 0.643\n",
      "Test accuracy: 0.652\n",
      "\n",
      "\n",
      "SVM poly of degree 2\n",
      "====================\n",
      "Training accuracy: 0.6415\n",
      "Test accuracy: 0.658\n",
      "\n",
      "\n",
      "SVM poly of degree 3\n",
      "====================\n",
      "Training accuracy: 0.632\n",
      "Test accuracy: 0.696\n",
      "\n",
      "\n",
      "SVM poly of degree 4\n",
      "====================\n",
      "Training accuracy: 0.643\n",
      "Test accuracy: 0.652\n",
      "\n",
      "\n",
      "SVM poly of degree 5\n",
      "====================\n",
      "Training accuracy: 0.6445\n",
      "Test accuracy: 0.646\n",
      "\n",
      "\n",
      "SVM poly of degree 6\n",
      "====================\n",
      "Training accuracy: 0.6525\n",
      "Test accuracy: 0.614\n",
      "\n",
      "\n",
      "SVM poly of degree 7\n",
      "====================\n",
      "Training accuracy: 0.643\n",
      "Test accuracy: 0.652\n",
      "\n",
      "\n",
      "SVM poly of degree 8\n",
      "====================\n",
      "Training accuracy: 0.6475\n",
      "Test accuracy: 0.634\n",
      "\n",
      "\n",
      "SVM poly of degree 9\n",
      "====================\n",
      "Training accuracy: 0.649\n",
      "Test accuracy: 0.628\n",
      "\n",
      "\n",
      "SVM poly of degree 10\n",
      "=====================\n",
      "Training accuracy: 0.644\n",
      "Test accuracy: 0.648\n"
     ]
    }
   ],
   "source": [
    "for test in svm_poly_tests:\n",
    "    print(f'\\n\\n{test.name}\\n' + '='*len(test.name))\n",
    "    acc_train, acc_test = test.run()\n",
    "    print(f'Training accuracy: {acc_train}')\n",
    "    print(f'Test accuracy: {acc_test}')"
   ]
  },
  {
   "source": [
    "### Linear Regression Modelling"
   ],
   "cell_type": "markdown",
   "metadata": {}
  },
  {
   "cell_type": "code",
   "execution_count": 16,
   "metadata": {},
   "outputs": [],
   "source": [
    "from sklearn import linear_model"
   ]
  },
  {
   "cell_type": "code",
   "execution_count": 25,
   "metadata": {},
   "outputs": [
    {
     "output_type": "stream",
     "name": "stdout",
     "text": [
      "\n",
      "\n",
      "Logreg l1 penalty with C=0.0001\n",
      "===============================\n",
      "Training accuracy: 0.6535\n",
      "Test accuracy: 0.61\n",
      "\n",
      "\n",
      "Logreg l1 penalty with C=0.001\n",
      "==============================\n",
      "Training accuracy: 0.6515\n",
      "Test accuracy: 0.618\n",
      "\n",
      "\n",
      "Logreg l1 penalty with C=0.01\n",
      "=============================\n",
      "Training accuracy: 0.635\n",
      "Test accuracy: 0.684\n",
      "\n",
      "\n",
      "Logreg l1 penalty with C=0.1\n",
      "============================\n",
      "Training accuracy: 0.65\n",
      "Test accuracy: 0.624\n",
      "\n",
      "\n",
      "Logreg l1 penalty with C=1\n",
      "==========================\n",
      "Training accuracy: 0.6475\n",
      "Test accuracy: 0.634\n",
      "\n",
      "\n",
      "Logreg l1 penalty with C=10\n",
      "===========================\n",
      "Training accuracy: 0.6435\n",
      "Test accuracy: 0.65\n",
      "\n",
      "\n",
      "Logreg l1 penalty with C=100\n",
      "============================\n",
      "Training accuracy: 0.652\n",
      "Test accuracy: 0.616\n",
      "\n",
      "\n",
      "Logreg l1 penalty with C=1000\n",
      "=============================\n",
      "Training accuracy: 0.6485\n",
      "Test accuracy: 0.63\n"
     ]
    }
   ],
   "source": [
    "\n",
    "\n",
    "logreg_l1_tests = [Test(name=f'Logreg l1 penalty with C={i}', X=X_norm, y=y_norm, algorithm=linear_model.LogisticRegression, args={'penalty':'l1', 'solver':'saga', 'C':i}) for i in [0.0001, 0.001, 0.01, 0.1, 1, 10, 100, 1000]]\n",
    "\n",
    "for test in logreg_l1_tests:\n",
    "    print(f'\\n\\n{test.name}\\n' + '='*len(test.name))\n",
    "    acc_train, acc_test = test.run()\n",
    "    print(f'Training accuracy: {acc_train}')\n",
    "    print(f'Test accuracy: {acc_test}')"
   ]
  },
  {
   "cell_type": "code",
   "execution_count": 26,
   "metadata": {},
   "outputs": [
    {
     "output_type": "stream",
     "name": "stdout",
     "text": [
      "\n",
      "\n",
      "Logreg l2 penalty with C=0.0001\n",
      "===============================\n",
      "Training accuracy: 0.641\n",
      "Test accuracy: 0.66\n",
      "\n",
      "\n",
      "Logreg l2 penalty with C=0.001\n",
      "==============================\n",
      "Training accuracy: 0.6455\n",
      "Test accuracy: 0.642\n",
      "\n",
      "\n",
      "Logreg l2 penalty with C=0.01\n",
      "=============================\n",
      "Training accuracy: 0.6495\n",
      "Test accuracy: 0.626\n",
      "\n",
      "\n",
      "Logreg l2 penalty with C=0.1\n",
      "============================\n",
      "Training accuracy: 0.641\n",
      "Test accuracy: 0.66\n",
      "\n",
      "\n",
      "Logreg l2 penalty with C=1\n",
      "==========================\n",
      "Training accuracy: 0.6465\n",
      "Test accuracy: 0.638\n",
      "\n",
      "\n",
      "Logreg l2 penalty with C=10\n",
      "===========================\n",
      "Training accuracy: 0.6545\n",
      "Test accuracy: 0.606\n",
      "\n",
      "\n",
      "Logreg l2 penalty with C=100\n",
      "============================\n",
      "Training accuracy: 0.6465\n",
      "Test accuracy: 0.638\n",
      "\n",
      "\n",
      "Logreg l2 penalty with C=1000\n",
      "=============================\n",
      "Training accuracy: 0.6505\n",
      "Test accuracy: 0.622\n"
     ]
    }
   ],
   "source": [
    "logreg_l2_tests = [Test(name=f'Logreg l2 penalty with C={i}', X=X_norm, y=y_norm, algorithm=linear_model.LogisticRegression, args={'penalty':'l1', 'solver':'saga', 'C':i}) for i in [0.0001, 0.001, 0.01, 0.1, 1, 10, 100, 1000]]\n",
    "\n",
    "for test in logreg_l2_tests:\n",
    "    print(f'\\n\\n{test.name}\\n' + '='*len(test.name))\n",
    "    acc_train, acc_test = test.run()\n",
    "    print(f'Training accuracy: {acc_train}')\n",
    "    print(f'Test accuracy: {acc_test}')"
   ]
  },
  {
   "cell_type": "code",
   "execution_count": null,
   "metadata": {},
   "outputs": [],
   "source": []
  }
 ]
}